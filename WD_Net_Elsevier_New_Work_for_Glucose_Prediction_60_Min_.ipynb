{
  "cells": [
    {
      "cell_type": "markdown",
      "metadata": {
        "id": "view-in-github",
        "colab_type": "text"
      },
      "source": [
        "<a href=\"https://colab.research.google.com/github/rohit28900/Car-prediction/blob/main/WD_Net_Elsevier_New_Work_for_Glucose_Prediction_60_Min_.ipynb\" target=\"_parent\"><img src=\"https://colab.research.google.com/assets/colab-badge.svg\" alt=\"Open In Colab\"/></a>"
      ]
    },
    {
      "cell_type": "code",
      "execution_count": null,
      "metadata": {
        "id": "oOF8boKjih9n"
      },
      "outputs": [],
      "source": [
        "import pandas as pd\n",
        "import matplotlib as mpl\n",
        "import matplotlib.pyplot as plt\n",
        "from sklearn.model_selection import train_test_split\n",
        "from keras.preprocessing.sequence import TimeseriesGenerator\n",
        "from sklearn.preprocessing import MinMaxScaler, StandardScaler\n",
        "import tensorflow as tf\n",
        "from tensorflow import keras\n",
        "import numpy\n",
        "\n",
        "\n",
        "from numpy import array\n",
        "from numpy import hstack\n",
        "from numpy import insert\n",
        "\n",
        "mpl.rcParams['figure.figsize'] = (10,8)\n",
        "mpl.rcParams['axes.grid'] = False"
      ]
    },
    {
      "cell_type": "code",
      "execution_count": null,
      "metadata": {
        "id": "UYtn5_K0XZHg"
      },
      "outputs": [],
      "source": [
        "# Load the TensorBoard notebook extension\n",
        "%load_ext tensorboard\n",
        "\n",
        "\n",
        "import tensorflow as tf\n",
        "import datetime"
      ]
    },
    {
      "cell_type": "code",
      "execution_count": null,
      "metadata": {
        "id": "0EYtgxMxXgmI"
      },
      "outputs": [],
      "source": [
        "\n",
        "# Clear any logs from previous runs\n",
        "!rm -rf ./logs/"
      ]
    },
    {
      "cell_type": "code",
      "execution_count": null,
      "metadata": {
        "id": "xVa0NcM50lf1"
      },
      "outputs": [],
      "source": [
        "from  google.colab import drive"
      ]
    },
    {
      "cell_type": "code",
      "execution_count": null,
      "metadata": {
        "colab": {
          "base_uri": "https://localhost:8080/"
        },
        "id": "_jklisJC0npa",
        "outputId": "5f16ea45-ecdb-4334-9e4d-c71a7bfbeb23"
      },
      "outputs": [
        {
          "output_type": "stream",
          "name": "stdout",
          "text": [
            "Mounted at /content/drive\n"
          ]
        }
      ],
      "source": [
        "drive.mount('/content/drive')"
      ]
    },
    {
      "cell_type": "code",
      "execution_count": null,
      "metadata": {
        "id": "nq2wiA3F0u9P"
      },
      "outputs": [],
      "source": [
        "df=pd.read_csv('/content/drive/MyDrive/DK Dataset for 10 Days 10 Adult/Adult10_10days.csv')"
      ]
    },
    {
      "cell_type": "code",
      "execution_count": null,
      "metadata": {
        "colab": {
          "base_uri": "https://localhost:8080/",
          "height": 424
        },
        "id": "8WPAG-F90xXe",
        "outputId": "47d967a4-2b9d-46bb-c7db-231cc2293d58"
      },
      "outputs": [
        {
          "output_type": "execute_result",
          "data": {
            "text/plain": [
              "                  Time          BG         CGM  CHO   insulin  LBGI      HBGI  \\\n",
              "0     09-08-2021 06:00  152.830000  181.677486  0.0  0.016975   0.0  3.274061   \n",
              "1     09-08-2021 06:05  152.830000  187.097984  0.0  0.016975   0.0  3.274061   \n",
              "2     09-08-2021 06:10  152.830000  186.176440  0.0  0.016975   0.0  3.274061   \n",
              "3     09-08-2021 06:15  152.830000  182.217881  0.0  0.016975   0.0  3.274061   \n",
              "4     09-08-2021 06:20  152.830000  177.434207  0.0  0.016975   0.0  3.274061   \n",
              "...                ...         ...         ...  ...       ...   ...       ...   \n",
              "2875  10-08-2021 05:35  146.049224  153.265374  0.0  0.016975   0.0  2.373677   \n",
              "2876  10-08-2021 05:40  146.139877  155.444183  0.0  0.016975   0.0  2.385009   \n",
              "2877  10-08-2021 05:45  146.231235  154.115020  0.0  0.016975   0.0  2.396450   \n",
              "2878  10-08-2021 05:50  146.323174  150.820998  0.0  0.016975   0.0  2.407984   \n",
              "2879  10-08-2021 05:55  146.415580  147.653381  0.0  0.016975   0.0  2.419598   \n",
              "\n",
              "          Risk  \n",
              "0     3.274061  \n",
              "1     3.274061  \n",
              "2     3.274061  \n",
              "3     3.274061  \n",
              "4     3.274061  \n",
              "...        ...  \n",
              "2875  2.373677  \n",
              "2876  2.385009  \n",
              "2877  2.396450  \n",
              "2878  2.407984  \n",
              "2879  2.419598  \n",
              "\n",
              "[2880 rows x 8 columns]"
            ],
            "text/html": [
              "\n",
              "  <div id=\"df-cc80096e-0512-4169-a19a-2b9a041c9504\">\n",
              "    <div class=\"colab-df-container\">\n",
              "      <div>\n",
              "<style scoped>\n",
              "    .dataframe tbody tr th:only-of-type {\n",
              "        vertical-align: middle;\n",
              "    }\n",
              "\n",
              "    .dataframe tbody tr th {\n",
              "        vertical-align: top;\n",
              "    }\n",
              "\n",
              "    .dataframe thead th {\n",
              "        text-align: right;\n",
              "    }\n",
              "</style>\n",
              "<table border=\"1\" class=\"dataframe\">\n",
              "  <thead>\n",
              "    <tr style=\"text-align: right;\">\n",
              "      <th></th>\n",
              "      <th>Time</th>\n",
              "      <th>BG</th>\n",
              "      <th>CGM</th>\n",
              "      <th>CHO</th>\n",
              "      <th>insulin</th>\n",
              "      <th>LBGI</th>\n",
              "      <th>HBGI</th>\n",
              "      <th>Risk</th>\n",
              "    </tr>\n",
              "  </thead>\n",
              "  <tbody>\n",
              "    <tr>\n",
              "      <th>0</th>\n",
              "      <td>09-08-2021 06:00</td>\n",
              "      <td>152.830000</td>\n",
              "      <td>181.677486</td>\n",
              "      <td>0.0</td>\n",
              "      <td>0.016975</td>\n",
              "      <td>0.0</td>\n",
              "      <td>3.274061</td>\n",
              "      <td>3.274061</td>\n",
              "    </tr>\n",
              "    <tr>\n",
              "      <th>1</th>\n",
              "      <td>09-08-2021 06:05</td>\n",
              "      <td>152.830000</td>\n",
              "      <td>187.097984</td>\n",
              "      <td>0.0</td>\n",
              "      <td>0.016975</td>\n",
              "      <td>0.0</td>\n",
              "      <td>3.274061</td>\n",
              "      <td>3.274061</td>\n",
              "    </tr>\n",
              "    <tr>\n",
              "      <th>2</th>\n",
              "      <td>09-08-2021 06:10</td>\n",
              "      <td>152.830000</td>\n",
              "      <td>186.176440</td>\n",
              "      <td>0.0</td>\n",
              "      <td>0.016975</td>\n",
              "      <td>0.0</td>\n",
              "      <td>3.274061</td>\n",
              "      <td>3.274061</td>\n",
              "    </tr>\n",
              "    <tr>\n",
              "      <th>3</th>\n",
              "      <td>09-08-2021 06:15</td>\n",
              "      <td>152.830000</td>\n",
              "      <td>182.217881</td>\n",
              "      <td>0.0</td>\n",
              "      <td>0.016975</td>\n",
              "      <td>0.0</td>\n",
              "      <td>3.274061</td>\n",
              "      <td>3.274061</td>\n",
              "    </tr>\n",
              "    <tr>\n",
              "      <th>4</th>\n",
              "      <td>09-08-2021 06:20</td>\n",
              "      <td>152.830000</td>\n",
              "      <td>177.434207</td>\n",
              "      <td>0.0</td>\n",
              "      <td>0.016975</td>\n",
              "      <td>0.0</td>\n",
              "      <td>3.274061</td>\n",
              "      <td>3.274061</td>\n",
              "    </tr>\n",
              "    <tr>\n",
              "      <th>...</th>\n",
              "      <td>...</td>\n",
              "      <td>...</td>\n",
              "      <td>...</td>\n",
              "      <td>...</td>\n",
              "      <td>...</td>\n",
              "      <td>...</td>\n",
              "      <td>...</td>\n",
              "      <td>...</td>\n",
              "    </tr>\n",
              "    <tr>\n",
              "      <th>2875</th>\n",
              "      <td>10-08-2021 05:35</td>\n",
              "      <td>146.049224</td>\n",
              "      <td>153.265374</td>\n",
              "      <td>0.0</td>\n",
              "      <td>0.016975</td>\n",
              "      <td>0.0</td>\n",
              "      <td>2.373677</td>\n",
              "      <td>2.373677</td>\n",
              "    </tr>\n",
              "    <tr>\n",
              "      <th>2876</th>\n",
              "      <td>10-08-2021 05:40</td>\n",
              "      <td>146.139877</td>\n",
              "      <td>155.444183</td>\n",
              "      <td>0.0</td>\n",
              "      <td>0.016975</td>\n",
              "      <td>0.0</td>\n",
              "      <td>2.385009</td>\n",
              "      <td>2.385009</td>\n",
              "    </tr>\n",
              "    <tr>\n",
              "      <th>2877</th>\n",
              "      <td>10-08-2021 05:45</td>\n",
              "      <td>146.231235</td>\n",
              "      <td>154.115020</td>\n",
              "      <td>0.0</td>\n",
              "      <td>0.016975</td>\n",
              "      <td>0.0</td>\n",
              "      <td>2.396450</td>\n",
              "      <td>2.396450</td>\n",
              "    </tr>\n",
              "    <tr>\n",
              "      <th>2878</th>\n",
              "      <td>10-08-2021 05:50</td>\n",
              "      <td>146.323174</td>\n",
              "      <td>150.820998</td>\n",
              "      <td>0.0</td>\n",
              "      <td>0.016975</td>\n",
              "      <td>0.0</td>\n",
              "      <td>2.407984</td>\n",
              "      <td>2.407984</td>\n",
              "    </tr>\n",
              "    <tr>\n",
              "      <th>2879</th>\n",
              "      <td>10-08-2021 05:55</td>\n",
              "      <td>146.415580</td>\n",
              "      <td>147.653381</td>\n",
              "      <td>0.0</td>\n",
              "      <td>0.016975</td>\n",
              "      <td>0.0</td>\n",
              "      <td>2.419598</td>\n",
              "      <td>2.419598</td>\n",
              "    </tr>\n",
              "  </tbody>\n",
              "</table>\n",
              "<p>2880 rows × 8 columns</p>\n",
              "</div>\n",
              "      <button class=\"colab-df-convert\" onclick=\"convertToInteractive('df-cc80096e-0512-4169-a19a-2b9a041c9504')\"\n",
              "              title=\"Convert this dataframe to an interactive table.\"\n",
              "              style=\"display:none;\">\n",
              "        \n",
              "  <svg xmlns=\"http://www.w3.org/2000/svg\" height=\"24px\"viewBox=\"0 0 24 24\"\n",
              "       width=\"24px\">\n",
              "    <path d=\"M0 0h24v24H0V0z\" fill=\"none\"/>\n",
              "    <path d=\"M18.56 5.44l.94 2.06.94-2.06 2.06-.94-2.06-.94-.94-2.06-.94 2.06-2.06.94zm-11 1L8.5 8.5l.94-2.06 2.06-.94-2.06-.94L8.5 2.5l-.94 2.06-2.06.94zm10 10l.94 2.06.94-2.06 2.06-.94-2.06-.94-.94-2.06-.94 2.06-2.06.94z\"/><path d=\"M17.41 7.96l-1.37-1.37c-.4-.4-.92-.59-1.43-.59-.52 0-1.04.2-1.43.59L10.3 9.45l-7.72 7.72c-.78.78-.78 2.05 0 2.83L4 21.41c.39.39.9.59 1.41.59.51 0 1.02-.2 1.41-.59l7.78-7.78 2.81-2.81c.8-.78.8-2.07 0-2.86zM5.41 20L4 18.59l7.72-7.72 1.47 1.35L5.41 20z\"/>\n",
              "  </svg>\n",
              "      </button>\n",
              "      \n",
              "  <style>\n",
              "    .colab-df-container {\n",
              "      display:flex;\n",
              "      flex-wrap:wrap;\n",
              "      gap: 12px;\n",
              "    }\n",
              "\n",
              "    .colab-df-convert {\n",
              "      background-color: #E8F0FE;\n",
              "      border: none;\n",
              "      border-radius: 50%;\n",
              "      cursor: pointer;\n",
              "      display: none;\n",
              "      fill: #1967D2;\n",
              "      height: 32px;\n",
              "      padding: 0 0 0 0;\n",
              "      width: 32px;\n",
              "    }\n",
              "\n",
              "    .colab-df-convert:hover {\n",
              "      background-color: #E2EBFA;\n",
              "      box-shadow: 0px 1px 2px rgba(60, 64, 67, 0.3), 0px 1px 3px 1px rgba(60, 64, 67, 0.15);\n",
              "      fill: #174EA6;\n",
              "    }\n",
              "\n",
              "    [theme=dark] .colab-df-convert {\n",
              "      background-color: #3B4455;\n",
              "      fill: #D2E3FC;\n",
              "    }\n",
              "\n",
              "    [theme=dark] .colab-df-convert:hover {\n",
              "      background-color: #434B5C;\n",
              "      box-shadow: 0px 1px 3px 1px rgba(0, 0, 0, 0.15);\n",
              "      filter: drop-shadow(0px 1px 2px rgba(0, 0, 0, 0.3));\n",
              "      fill: #FFFFFF;\n",
              "    }\n",
              "  </style>\n",
              "\n",
              "      <script>\n",
              "        const buttonEl =\n",
              "          document.querySelector('#df-cc80096e-0512-4169-a19a-2b9a041c9504 button.colab-df-convert');\n",
              "        buttonEl.style.display =\n",
              "          google.colab.kernel.accessAllowed ? 'block' : 'none';\n",
              "\n",
              "        async function convertToInteractive(key) {\n",
              "          const element = document.querySelector('#df-cc80096e-0512-4169-a19a-2b9a041c9504');\n",
              "          const dataTable =\n",
              "            await google.colab.kernel.invokeFunction('convertToInteractive',\n",
              "                                                     [key], {});\n",
              "          if (!dataTable) return;\n",
              "\n",
              "          const docLinkHtml = 'Like what you see? Visit the ' +\n",
              "            '<a target=\"_blank\" href=https://colab.research.google.com/notebooks/data_table.ipynb>data table notebook</a>'\n",
              "            + ' to learn more about interactive tables.';\n",
              "          element.innerHTML = '';\n",
              "          dataTable['output_type'] = 'display_data';\n",
              "          await google.colab.output.renderOutput(dataTable, element);\n",
              "          const docLink = document.createElement('div');\n",
              "          docLink.innerHTML = docLinkHtml;\n",
              "          element.appendChild(docLink);\n",
              "        }\n",
              "      </script>\n",
              "    </div>\n",
              "  </div>\n",
              "  "
            ]
          },
          "metadata": {},
          "execution_count": 7
        }
      ],
      "source": [
        "df"
      ]
    },
    {
      "cell_type": "code",
      "execution_count": null,
      "metadata": {
        "id": "QCtyGWVc06MW"
      },
      "outputs": [],
      "source": [
        "df['Time']=pd.to_datetime(df['Time'], infer_datetime_format= True) "
      ]
    },
    {
      "cell_type": "code",
      "execution_count": null,
      "metadata": {
        "id": "xRsE-0p51A6x"
      },
      "outputs": [],
      "source": [
        "df_input=df[['CGM','CHO']]"
      ]
    },
    {
      "cell_type": "code",
      "execution_count": null,
      "metadata": {
        "colab": {
          "base_uri": "https://localhost:8080/",
          "height": 424
        },
        "id": "LGWKeFqY1EGC",
        "outputId": "764642cb-ce2a-4ecd-c809-2086ed7c4240"
      },
      "outputs": [
        {
          "output_type": "execute_result",
          "data": {
            "text/plain": [
              "             CGM  CHO\n",
              "0     181.677486  0.0\n",
              "1     187.097984  0.0\n",
              "2     186.176440  0.0\n",
              "3     182.217881  0.0\n",
              "4     177.434207  0.0\n",
              "...          ...  ...\n",
              "2875  153.265374  0.0\n",
              "2876  155.444183  0.0\n",
              "2877  154.115020  0.0\n",
              "2878  150.820998  0.0\n",
              "2879  147.653381  0.0\n",
              "\n",
              "[2880 rows x 2 columns]"
            ],
            "text/html": [
              "\n",
              "  <div id=\"df-e2b7bd4f-8d9a-4ebe-9291-8b8684f4cf5e\">\n",
              "    <div class=\"colab-df-container\">\n",
              "      <div>\n",
              "<style scoped>\n",
              "    .dataframe tbody tr th:only-of-type {\n",
              "        vertical-align: middle;\n",
              "    }\n",
              "\n",
              "    .dataframe tbody tr th {\n",
              "        vertical-align: top;\n",
              "    }\n",
              "\n",
              "    .dataframe thead th {\n",
              "        text-align: right;\n",
              "    }\n",
              "</style>\n",
              "<table border=\"1\" class=\"dataframe\">\n",
              "  <thead>\n",
              "    <tr style=\"text-align: right;\">\n",
              "      <th></th>\n",
              "      <th>CGM</th>\n",
              "      <th>CHO</th>\n",
              "    </tr>\n",
              "  </thead>\n",
              "  <tbody>\n",
              "    <tr>\n",
              "      <th>0</th>\n",
              "      <td>181.677486</td>\n",
              "      <td>0.0</td>\n",
              "    </tr>\n",
              "    <tr>\n",
              "      <th>1</th>\n",
              "      <td>187.097984</td>\n",
              "      <td>0.0</td>\n",
              "    </tr>\n",
              "    <tr>\n",
              "      <th>2</th>\n",
              "      <td>186.176440</td>\n",
              "      <td>0.0</td>\n",
              "    </tr>\n",
              "    <tr>\n",
              "      <th>3</th>\n",
              "      <td>182.217881</td>\n",
              "      <td>0.0</td>\n",
              "    </tr>\n",
              "    <tr>\n",
              "      <th>4</th>\n",
              "      <td>177.434207</td>\n",
              "      <td>0.0</td>\n",
              "    </tr>\n",
              "    <tr>\n",
              "      <th>...</th>\n",
              "      <td>...</td>\n",
              "      <td>...</td>\n",
              "    </tr>\n",
              "    <tr>\n",
              "      <th>2875</th>\n",
              "      <td>153.265374</td>\n",
              "      <td>0.0</td>\n",
              "    </tr>\n",
              "    <tr>\n",
              "      <th>2876</th>\n",
              "      <td>155.444183</td>\n",
              "      <td>0.0</td>\n",
              "    </tr>\n",
              "    <tr>\n",
              "      <th>2877</th>\n",
              "      <td>154.115020</td>\n",
              "      <td>0.0</td>\n",
              "    </tr>\n",
              "    <tr>\n",
              "      <th>2878</th>\n",
              "      <td>150.820998</td>\n",
              "      <td>0.0</td>\n",
              "    </tr>\n",
              "    <tr>\n",
              "      <th>2879</th>\n",
              "      <td>147.653381</td>\n",
              "      <td>0.0</td>\n",
              "    </tr>\n",
              "  </tbody>\n",
              "</table>\n",
              "<p>2880 rows × 2 columns</p>\n",
              "</div>\n",
              "      <button class=\"colab-df-convert\" onclick=\"convertToInteractive('df-e2b7bd4f-8d9a-4ebe-9291-8b8684f4cf5e')\"\n",
              "              title=\"Convert this dataframe to an interactive table.\"\n",
              "              style=\"display:none;\">\n",
              "        \n",
              "  <svg xmlns=\"http://www.w3.org/2000/svg\" height=\"24px\"viewBox=\"0 0 24 24\"\n",
              "       width=\"24px\">\n",
              "    <path d=\"M0 0h24v24H0V0z\" fill=\"none\"/>\n",
              "    <path d=\"M18.56 5.44l.94 2.06.94-2.06 2.06-.94-2.06-.94-.94-2.06-.94 2.06-2.06.94zm-11 1L8.5 8.5l.94-2.06 2.06-.94-2.06-.94L8.5 2.5l-.94 2.06-2.06.94zm10 10l.94 2.06.94-2.06 2.06-.94-2.06-.94-.94-2.06-.94 2.06-2.06.94z\"/><path d=\"M17.41 7.96l-1.37-1.37c-.4-.4-.92-.59-1.43-.59-.52 0-1.04.2-1.43.59L10.3 9.45l-7.72 7.72c-.78.78-.78 2.05 0 2.83L4 21.41c.39.39.9.59 1.41.59.51 0 1.02-.2 1.41-.59l7.78-7.78 2.81-2.81c.8-.78.8-2.07 0-2.86zM5.41 20L4 18.59l7.72-7.72 1.47 1.35L5.41 20z\"/>\n",
              "  </svg>\n",
              "      </button>\n",
              "      \n",
              "  <style>\n",
              "    .colab-df-container {\n",
              "      display:flex;\n",
              "      flex-wrap:wrap;\n",
              "      gap: 12px;\n",
              "    }\n",
              "\n",
              "    .colab-df-convert {\n",
              "      background-color: #E8F0FE;\n",
              "      border: none;\n",
              "      border-radius: 50%;\n",
              "      cursor: pointer;\n",
              "      display: none;\n",
              "      fill: #1967D2;\n",
              "      height: 32px;\n",
              "      padding: 0 0 0 0;\n",
              "      width: 32px;\n",
              "    }\n",
              "\n",
              "    .colab-df-convert:hover {\n",
              "      background-color: #E2EBFA;\n",
              "      box-shadow: 0px 1px 2px rgba(60, 64, 67, 0.3), 0px 1px 3px 1px rgba(60, 64, 67, 0.15);\n",
              "      fill: #174EA6;\n",
              "    }\n",
              "\n",
              "    [theme=dark] .colab-df-convert {\n",
              "      background-color: #3B4455;\n",
              "      fill: #D2E3FC;\n",
              "    }\n",
              "\n",
              "    [theme=dark] .colab-df-convert:hover {\n",
              "      background-color: #434B5C;\n",
              "      box-shadow: 0px 1px 3px 1px rgba(0, 0, 0, 0.15);\n",
              "      filter: drop-shadow(0px 1px 2px rgba(0, 0, 0, 0.3));\n",
              "      fill: #FFFFFF;\n",
              "    }\n",
              "  </style>\n",
              "\n",
              "      <script>\n",
              "        const buttonEl =\n",
              "          document.querySelector('#df-e2b7bd4f-8d9a-4ebe-9291-8b8684f4cf5e button.colab-df-convert');\n",
              "        buttonEl.style.display =\n",
              "          google.colab.kernel.accessAllowed ? 'block' : 'none';\n",
              "\n",
              "        async function convertToInteractive(key) {\n",
              "          const element = document.querySelector('#df-e2b7bd4f-8d9a-4ebe-9291-8b8684f4cf5e');\n",
              "          const dataTable =\n",
              "            await google.colab.kernel.invokeFunction('convertToInteractive',\n",
              "                                                     [key], {});\n",
              "          if (!dataTable) return;\n",
              "\n",
              "          const docLinkHtml = 'Like what you see? Visit the ' +\n",
              "            '<a target=\"_blank\" href=https://colab.research.google.com/notebooks/data_table.ipynb>data table notebook</a>'\n",
              "            + ' to learn more about interactive tables.';\n",
              "          element.innerHTML = '';\n",
              "          dataTable['output_type'] = 'display_data';\n",
              "          await google.colab.output.renderOutput(dataTable, element);\n",
              "          const docLink = document.createElement('div');\n",
              "          docLink.innerHTML = docLinkHtml;\n",
              "          element.appendChild(docLink);\n",
              "        }\n",
              "      </script>\n",
              "    </div>\n",
              "  </div>\n",
              "  "
            ]
          },
          "metadata": {},
          "execution_count": 10
        }
      ],
      "source": [
        "df_input"
      ]
    },
    {
      "cell_type": "code",
      "execution_count": null,
      "metadata": {
        "id": "oB6eZdlB1Gqo"
      },
      "outputs": [],
      "source": [
        "m=df_input.iloc[:,0:1]\n",
        "n=df_input.iloc[:,1:2]"
      ]
    },
    {
      "cell_type": "code",
      "execution_count": null,
      "metadata": {
        "id": "ZmsWXq831M27"
      },
      "outputs": [],
      "source": [
        "scaler1 = MinMaxScaler()\n",
        "scaler2 = MinMaxScaler()\n",
        "data_scaled1 = scaler1.fit_transform(m)\n",
        "data_scaled2 = scaler2.fit_transform(n)"
      ]
    },
    {
      "cell_type": "code",
      "source": [
        "features1=data_scaled1\n",
        "features2=data_scaled2\n",
        "target=data_scaled1[:,0]"
      ],
      "metadata": {
        "id": "YVjYv3sWRf_x"
      },
      "execution_count": null,
      "outputs": []
    },
    {
      "cell_type": "code",
      "execution_count": null,
      "metadata": {
        "colab": {
          "base_uri": "https://localhost:8080/"
        },
        "id": "ajrW-Bkz1YVQ",
        "outputId": "563544b1-195a-47b5-c1f4-4d73967db1cb"
      },
      "outputs": [
        {
          "output_type": "execute_result",
          "data": {
            "text/plain": [
              "array([0.43447486, 0.45098111, 0.44817486, ..., 0.35054292, 0.34051211,\n",
              "       0.33086623])"
            ]
          },
          "metadata": {},
          "execution_count": 14
        }
      ],
      "source": [
        "target"
      ]
    },
    {
      "cell_type": "markdown",
      "metadata": {
        "id": "mRccqS3r1jrO"
      },
      "source": [
        "Set the output structure"
      ]
    },
    {
      "cell_type": "code",
      "execution_count": null,
      "metadata": {
        "id": "MB_QOBc81mgA",
        "colab": {
          "base_uri": "https://localhost:8080/"
        },
        "outputId": "11ce86a7-fe15-4d59-f7f7-906f95ad98da"
      },
      "outputs": [
        {
          "output_type": "execute_result",
          "data": {
            "text/plain": [
              "array([0.        , 0.43447486, 0.45098111, ..., 0.35054292, 0.34051211,\n",
              "       0.33086623])"
            ]
          },
          "metadata": {},
          "execution_count": 15
        }
      ],
      "source": [
        "a = insert(target, 0, 0)\n",
        "a"
      ]
    },
    {
      "cell_type": "code",
      "execution_count": null,
      "metadata": {
        "id": "mbCsYt1l1oeN",
        "colab": {
          "base_uri": "https://localhost:8080/"
        },
        "outputId": "6f30bce7-d532-4733-c27e-b20a9b92ca38"
      },
      "outputs": [
        {
          "output_type": "execute_result",
          "data": {
            "text/plain": [
              "array([0.        , 0.45098111, 0.44817486, ..., 0.34051211, 0.33086623,\n",
              "       0.43447486])"
            ]
          },
          "metadata": {},
          "execution_count": 16
        }
      ],
      "source": [
        "b=target[0:]\n",
        "b1= numpy.roll(b,-1)\n",
        "b2 = insert(b1, 0, 0)\n",
        "b2"
      ]
    },
    {
      "cell_type": "code",
      "execution_count": null,
      "metadata": {
        "id": "Jq8Y2vGb1qQE",
        "colab": {
          "base_uri": "https://localhost:8080/"
        },
        "outputId": "934e3a98-bda5-4adf-f886-b491f39e85c4"
      },
      "outputs": [
        {
          "output_type": "execute_result",
          "data": {
            "text/plain": [
              "array([0.        , 0.44817486, 0.43612044, ..., 0.33086623, 0.43447486,\n",
              "       0.45098111])"
            ]
          },
          "metadata": {},
          "execution_count": 17
        }
      ],
      "source": [
        "b=target[0:]\n",
        "c1= numpy.roll(b,-2)\n",
        "c2 = insert(c1, 0, 0)\n",
        "c2"
      ]
    },
    {
      "cell_type": "code",
      "execution_count": null,
      "metadata": {
        "id": "LaEH_APr12uA",
        "colab": {
          "base_uri": "https://localhost:8080/"
        },
        "outputId": "fa223b22-ec80-4e71-a590-3ae61a08e6a2"
      },
      "outputs": [
        {
          "output_type": "execute_result",
          "data": {
            "text/plain": [
              "array([0.        , 0.43612044, 0.42155342, ..., 0.43447486, 0.45098111,\n",
              "       0.44817486])"
            ]
          },
          "metadata": {},
          "execution_count": 18
        }
      ],
      "source": [
        "b=target[0:]\n",
        "d1= numpy.roll(b,-3)\n",
        "d2 = insert(d1, 0, 0)\n",
        "d2"
      ]
    },
    {
      "cell_type": "code",
      "execution_count": null,
      "metadata": {
        "id": "jNrnBKP515j4",
        "colab": {
          "base_uri": "https://localhost:8080/"
        },
        "outputId": "0aa1d1cf-2230-41b4-99d4-007d1cca944d"
      },
      "outputs": [
        {
          "output_type": "execute_result",
          "data": {
            "text/plain": [
              "array([0.        , 0.42155342, 0.41088532, ..., 0.45098111, 0.44817486,\n",
              "       0.43612044])"
            ]
          },
          "metadata": {},
          "execution_count": 19
        }
      ],
      "source": [
        "b=target[0:]\n",
        "e1= numpy.roll(b,-4)\n",
        "e2 = insert(e1, 0, 0)\n",
        "e2"
      ]
    },
    {
      "cell_type": "code",
      "source": [
        "b=target[0:]\n",
        "f1= numpy.roll(b,-5)\n",
        "f2 = insert(f1, 0, 0)"
      ],
      "metadata": {
        "id": "93d6YGrvRHJb"
      },
      "execution_count": null,
      "outputs": []
    },
    {
      "cell_type": "code",
      "source": [
        "b=target[0:]\n",
        "g1= numpy.roll(b,-6)\n",
        "g2 = insert(g1, 0, 0)"
      ],
      "metadata": {
        "id": "tUEvoEm9X6Lg"
      },
      "execution_count": null,
      "outputs": []
    },
    {
      "cell_type": "code",
      "source": [
        "b=target[0:]\n",
        "h1= numpy.roll(b,-7)\n",
        "h2 = insert(h1, 0, 0)"
      ],
      "metadata": {
        "id": "XR8ptWThX8T7"
      },
      "execution_count": null,
      "outputs": []
    },
    {
      "cell_type": "code",
      "source": [
        "b=target[0:]\n",
        "i1= numpy.roll(b,-8)\n",
        "i2 = insert(i1, 0, 0)"
      ],
      "metadata": {
        "id": "n24pXVHGX-ZZ"
      },
      "execution_count": null,
      "outputs": []
    },
    {
      "cell_type": "code",
      "source": [
        "b=target[0:]\n",
        "j1= numpy.roll(b,-9)\n",
        "j2 = insert(j1, 0, 0)"
      ],
      "metadata": {
        "id": "8qImQRm8YAec"
      },
      "execution_count": null,
      "outputs": []
    },
    {
      "cell_type": "code",
      "source": [
        "b=target[0:]\n",
        "k1= numpy.roll(b,-10)\n",
        "k2 = insert(k1, 0, 0)"
      ],
      "metadata": {
        "id": "YdL0eQfgYCso"
      },
      "execution_count": null,
      "outputs": []
    },
    {
      "cell_type": "code",
      "source": [
        "b=target[0:]\n",
        "l1= numpy.roll(b,-11)\n",
        "l2 = insert(l1, 0, 0)"
      ],
      "metadata": {
        "id": "xAVwxBwrYE70"
      },
      "execution_count": null,
      "outputs": []
    },
    {
      "cell_type": "code",
      "source": [
        "a5 = a.reshape((len(a), 1,1))\n",
        "b5 = b2.reshape((len(b2), 1,1))\n",
        "c5 = c2.reshape((len(c2), 1,1))\n",
        "d5 = d2.reshape((len(d2), 1,1))\n",
        "e5 = e2.reshape((len(e2), 1,1))\n",
        "f5 = f2.reshape((len(f2), 1,1))\n",
        "g5 = a.reshape((len(g2), 1,1))\n",
        "h5 = b2.reshape((len(h2), 1,1))\n",
        "i5 = c2.reshape((len(i2), 1,1))\n",
        "j5 = d2.reshape((len(j2), 1,1))\n",
        "k5 = e2.reshape((len(k2), 1,1))\n",
        "l5 = f2.reshape((len(l2), 1,1))"
      ],
      "metadata": {
        "id": "Tzsy6Dw_RJz2"
      },
      "execution_count": null,
      "outputs": []
    },
    {
      "cell_type": "code",
      "source": [
        "target_data = hstack((a5, b5, c5, d5, e5, f5, g5, h5, i5, j5, k5, l5))"
      ],
      "metadata": {
        "id": "P3B-d-TiRMtC"
      },
      "execution_count": null,
      "outputs": []
    },
    {
      "cell_type": "code",
      "execution_count": null,
      "metadata": {
        "id": "L07pc5fv17t9"
      },
      "outputs": [],
      "source": [
        "p=len(target_data)\n",
        "new_target_data=target_data[:p-11]"
      ]
    },
    {
      "cell_type": "code",
      "execution_count": null,
      "metadata": {
        "id": "FAEa_6JY2Urh"
      },
      "outputs": [],
      "source": [
        "x_train, x_test, y_train, y_test = train_test_split(features1[:-10], new_target_data[:], test_size=0.20, random_state=123, shuffle= False)"
      ]
    },
    {
      "cell_type": "code",
      "execution_count": null,
      "metadata": {
        "id": "aUtcEEYi2Yau"
      },
      "outputs": [],
      "source": [
        "x_train1, x_test1, y_train1, y_test1 = train_test_split(features2[:-10], new_target_data[:], test_size=0.20, random_state=123, shuffle= False)"
      ]
    },
    {
      "cell_type": "code",
      "execution_count": null,
      "metadata": {
        "id": "qOwPnUMC2eVD"
      },
      "outputs": [],
      "source": [
        "win_length=288\n",
        "batch_size=32\n",
        "num_features=2"
      ]
    },
    {
      "cell_type": "code",
      "execution_count": null,
      "metadata": {
        "id": "hRm7lmo02h6E"
      },
      "outputs": [],
      "source": [
        "CHO_in = keras.layers.Input(shape=(win_length, 1), name=\"wide_input\")\n",
        "CGM_in = keras.layers.Input(shape = (win_length, 1), name='deep_input')\n",
        "\n",
        "GRU_1 = keras.layers.GRU(128, return_sequences=True)(CGM_in)\n",
        "activation_layer1 = keras.layers.LeakyReLU(alpha=0.9)(GRU_1)\n",
        "\n",
        "\n",
        "LSTM_1 = keras.layers.LSTM(128, return_sequences=True)(activation_layer1)\n",
        "activation_layer2 = keras.layers.LeakyReLU(alpha=0.3)(LSTM_1)\n",
        "\n",
        "\n",
        "dropout_layer1 = keras.layers.Dropout(0.01)(activation_layer2)\n",
        "\n",
        "\n",
        "concat = keras.layers.concatenate([CHO_in, dropout_layer1])\n",
        "\n",
        "\n",
        "GRU_2 = keras.layers.GRU(128, return_sequences=False)(concat)\n",
        "\n",
        "\n",
        "dropout_layer2 = keras.layers.Dropout(0.01)(GRU_2)\n",
        "\n",
        "\n",
        "output=keras.layers.Dense(12,name='CGM_Out')(dropout_layer2)\n",
        "model= keras.Model(inputs=[CGM_in,CHO_in], outputs=[output])"
      ]
    },
    {
      "cell_type": "code",
      "execution_count": null,
      "metadata": {
        "colab": {
          "base_uri": "https://localhost:8080/"
        },
        "id": "1F4xynTc2lVA",
        "outputId": "3960f79e-de57-4dc4-d66c-8f8e6f5a0664"
      },
      "outputs": [
        {
          "output_type": "stream",
          "name": "stdout",
          "text": [
            "Model: \"model\"\n",
            "__________________________________________________________________________________________________\n",
            " Layer (type)                   Output Shape         Param #     Connected to                     \n",
            "==================================================================================================\n",
            " deep_input (InputLayer)        [(None, 288, 1)]     0           []                               \n",
            "                                                                                                  \n",
            " gru (GRU)                      (None, 288, 128)     50304       ['deep_input[0][0]']             \n",
            "                                                                                                  \n",
            " leaky_re_lu (LeakyReLU)        (None, 288, 128)     0           ['gru[0][0]']                    \n",
            "                                                                                                  \n",
            " lstm (LSTM)                    (None, 288, 128)     131584      ['leaky_re_lu[0][0]']            \n",
            "                                                                                                  \n",
            " leaky_re_lu_1 (LeakyReLU)      (None, 288, 128)     0           ['lstm[0][0]']                   \n",
            "                                                                                                  \n",
            " wide_input (InputLayer)        [(None, 288, 1)]     0           []                               \n",
            "                                                                                                  \n",
            " dropout (Dropout)              (None, 288, 128)     0           ['leaky_re_lu_1[0][0]']          \n",
            "                                                                                                  \n",
            " concatenate (Concatenate)      (None, 288, 129)     0           ['wide_input[0][0]',             \n",
            "                                                                  'dropout[0][0]']                \n",
            "                                                                                                  \n",
            " gru_1 (GRU)                    (None, 128)          99456       ['concatenate[0][0]']            \n",
            "                                                                                                  \n",
            " dropout_1 (Dropout)            (None, 128)          0           ['gru_1[0][0]']                  \n",
            "                                                                                                  \n",
            " CGM_Out (Dense)                (None, 12)           1548        ['dropout_1[0][0]']              \n",
            "                                                                                                  \n",
            "==================================================================================================\n",
            "Total params: 282,892\n",
            "Trainable params: 282,892\n",
            "Non-trainable params: 0\n",
            "__________________________________________________________________________________________________\n"
          ]
        }
      ],
      "source": [
        "model.summary()"
      ]
    },
    {
      "cell_type": "code",
      "execution_count": null,
      "metadata": {
        "colab": {
          "base_uri": "https://localhost:8080/",
          "height": 1000
        },
        "id": "0hrerkRs2oVI",
        "outputId": "f083badb-9f34-432e-d8f5-bda2e2012f41"
      },
      "outputs": [
        {
          "output_type": "execute_result",
          "data": {
            "text/plain": [
              "<IPython.core.display.Image object>"
            ],
            "image/png": "[encoded data removed]"
          },
          "metadata": {},
          "execution_count": 35
        }
      ],
      "source": [
        "from keras.utils.vis_utils import plot_model\n",
        "\n",
        "plot_model(model, to_file='model_plot.png', show_shapes=True, show_layer_names=True)"
      ]
    },
    {
      "cell_type": "code",
      "execution_count": null,
      "metadata": {
        "id": "64gr4dYjXuDV"
      },
      "outputs": [],
      "source": [
        "log_dir = \"logs/fit/\" + datetime.datetime.now().strftime(\"%Y%m%d-%H%M%S\")\n",
        "tensorboard_callback = tf.keras.callbacks.TensorBoard(log_dir=log_dir, histogram_freq=1)"
      ]
    },
    {
      "cell_type": "code",
      "execution_count": null,
      "metadata": {
        "colab": {
          "base_uri": "https://localhost:8080/"
        },
        "id": "teugdP3d2shY",
        "outputId": "32acc704-38c6-4a21-a960-f1646f20e733"
      },
      "outputs": [
        {
          "output_type": "stream",
          "name": "stdout",
          "text": [
            "Epoch 1/100\n",
            "WARNING:tensorflow:Model was constructed with shape (None, 288, 1) for input KerasTensor(type_spec=TensorSpec(shape=(None, 288, 1), dtype=tf.float32, name='deep_input'), name='deep_input', description=\"created by layer 'deep_input'\"), but it was called on an input with incompatible shape (None, 1, 1).\n",
            "WARNING:tensorflow:Model was constructed with shape (None, 288, 1) for input KerasTensor(type_spec=TensorSpec(shape=(None, 288, 1), dtype=tf.float32, name='wide_input'), name='wide_input', description=\"created by layer 'wide_input'\"), but it was called on an input with incompatible shape (None, 1, 1).\n",
            "WARNING:tensorflow:Model was constructed with shape (None, 288, 1) for input KerasTensor(type_spec=TensorSpec(shape=(None, 288, 1), dtype=tf.float32, name='deep_input'), name='deep_input', description=\"created by layer 'deep_input'\"), but it was called on an input with incompatible shape (None, 1, 1).\n",
            "WARNING:tensorflow:Model was constructed with shape (None, 288, 1) for input KerasTensor(type_spec=TensorSpec(shape=(None, 288, 1), dtype=tf.float32, name='wide_input'), name='wide_input', description=\"created by layer 'wide_input'\"), but it was called on an input with incompatible shape (None, 1, 1).\n",
            "64/72 [=========================>....] - ETA: 0s - loss: 0.0740 - mean_absolute_error: 0.2018WARNING:tensorflow:Model was constructed with shape (None, 288, 1) for input KerasTensor(type_spec=TensorSpec(shape=(None, 288, 1), dtype=tf.float32, name='deep_input'), name='deep_input', description=\"created by layer 'deep_input'\"), but it was called on an input with incompatible shape (None, 1, 1).\n",
            "WARNING:tensorflow:Model was constructed with shape (None, 288, 1) for input KerasTensor(type_spec=TensorSpec(shape=(None, 288, 1), dtype=tf.float32, name='wide_input'), name='wide_input', description=\"created by layer 'wide_input'\"), but it was called on an input with incompatible shape (None, 1, 1).\n",
            "72/72 [==============================] - 10s 21ms/step - loss: 0.0690 - mean_absolute_error: 0.1957 - val_loss: 0.0293 - val_mean_absolute_error: 0.1448\n",
            "Epoch 2/100\n",
            "72/72 [==============================] - 0s 7ms/step - loss: 0.0090 - mean_absolute_error: 0.0704 - val_loss: 0.0046 - val_mean_absolute_error: 0.0546\n",
            "Epoch 3/100\n",
            "72/72 [==============================] - 0s 7ms/step - loss: 0.0027 - mean_absolute_error: 0.0352 - val_loss: 0.0027 - val_mean_absolute_error: 0.0371\n",
            "Epoch 4/100\n",
            "72/72 [==============================] - 0s 7ms/step - loss: 0.0023 - mean_absolute_error: 0.0316 - val_loss: 0.0022 - val_mean_absolute_error: 0.0325\n",
            "Epoch 5/100\n",
            "72/72 [==============================] - 0s 7ms/step - loss: 0.0022 - mean_absolute_error: 0.0305 - val_loss: 0.0020 - val_mean_absolute_error: 0.0297\n",
            "Epoch 6/100\n",
            "72/72 [==============================] - 0s 7ms/step - loss: 0.0021 - mean_absolute_error: 0.0292 - val_loss: 0.0019 - val_mean_absolute_error: 0.0276\n",
            "Epoch 7/100\n",
            "72/72 [==============================] - 0s 7ms/step - loss: 0.0020 - mean_absolute_error: 0.0284 - val_loss: 0.0018 - val_mean_absolute_error: 0.0266\n",
            "Epoch 8/100\n",
            "72/72 [==============================] - 0s 7ms/step - loss: 0.0020 - mean_absolute_error: 0.0280 - val_loss: 0.0019 - val_mean_absolute_error: 0.0276\n",
            "Epoch 9/100\n",
            "72/72 [==============================] - 0s 7ms/step - loss: 0.0020 - mean_absolute_error: 0.0279 - val_loss: 0.0018 - val_mean_absolute_error: 0.0264\n",
            "Epoch 10/100\n",
            "72/72 [==============================] - 0s 7ms/step - loss: 0.0020 - mean_absolute_error: 0.0279 - val_loss: 0.0019 - val_mean_absolute_error: 0.0274\n",
            "Epoch 11/100\n",
            "72/72 [==============================] - 0s 7ms/step - loss: 0.0020 - mean_absolute_error: 0.0282 - val_loss: 0.0018 - val_mean_absolute_error: 0.0268\n",
            "Epoch 12/100\n",
            "72/72 [==============================] - 0s 7ms/step - loss: 0.0020 - mean_absolute_error: 0.0281 - val_loss: 0.0018 - val_mean_absolute_error: 0.0267\n",
            "Epoch 13/100\n",
            "72/72 [==============================] - 0s 7ms/step - loss: 0.0020 - mean_absolute_error: 0.0280 - val_loss: 0.0019 - val_mean_absolute_error: 0.0277\n",
            "Epoch 14/100\n",
            "72/72 [==============================] - 0s 7ms/step - loss: 0.0020 - mean_absolute_error: 0.0284 - val_loss: 0.0019 - val_mean_absolute_error: 0.0279\n",
            "Epoch 15/100\n",
            "72/72 [==============================] - 1s 7ms/step - loss: 0.0021 - mean_absolute_error: 0.0288 - val_loss: 0.0020 - val_mean_absolute_error: 0.0294\n",
            "Epoch 16/100\n",
            "72/72 [==============================] - 1s 8ms/step - loss: 0.0020 - mean_absolute_error: 0.0286 - val_loss: 0.0020 - val_mean_absolute_error: 0.0293\n",
            "Epoch 17/100\n",
            "72/72 [==============================] - 0s 7ms/step - loss: 0.0020 - mean_absolute_error: 0.0284 - val_loss: 0.0020 - val_mean_absolute_error: 0.0299\n",
            "Epoch 18/100\n",
            "72/72 [==============================] - 0s 7ms/step - loss: 0.0020 - mean_absolute_error: 0.0288 - val_loss: 0.0021 - val_mean_absolute_error: 0.0309\n",
            "Epoch 19/100\n",
            "72/72 [==============================] - 0s 7ms/step - loss: 0.0021 - mean_absolute_error: 0.0287 - val_loss: 0.0021 - val_mean_absolute_error: 0.0309\n",
            "Epoch 20/100\n",
            "72/72 [==============================] - 0s 7ms/step - loss: 0.0021 - mean_absolute_error: 0.0289 - val_loss: 0.0022 - val_mean_absolute_error: 0.0315\n",
            "Epoch 21/100\n",
            "72/72 [==============================] - 0s 7ms/step - loss: 0.0021 - mean_absolute_error: 0.0290 - val_loss: 0.0021 - val_mean_absolute_error: 0.0304\n",
            "Epoch 22/100\n",
            "72/72 [==============================] - 0s 7ms/step - loss: 0.0020 - mean_absolute_error: 0.0288 - val_loss: 0.0021 - val_mean_absolute_error: 0.0308\n",
            "Epoch 23/100\n",
            "72/72 [==============================] - 0s 7ms/step - loss: 0.0020 - mean_absolute_error: 0.0284 - val_loss: 0.0020 - val_mean_absolute_error: 0.0300\n",
            "Epoch 24/100\n",
            "72/72 [==============================] - 0s 7ms/step - loss: 0.0020 - mean_absolute_error: 0.0286 - val_loss: 0.0021 - val_mean_absolute_error: 0.0310\n",
            "Epoch 25/100\n",
            "72/72 [==============================] - 0s 7ms/step - loss: 0.0021 - mean_absolute_error: 0.0286 - val_loss: 0.0022 - val_mean_absolute_error: 0.0318\n",
            "Epoch 26/100\n",
            "72/72 [==============================] - 1s 7ms/step - loss: 0.0020 - mean_absolute_error: 0.0286 - val_loss: 0.0022 - val_mean_absolute_error: 0.0321\n",
            "Epoch 27/100\n",
            "72/72 [==============================] - 1s 7ms/step - loss: 0.0021 - mean_absolute_error: 0.0289 - val_loss: 0.0022 - val_mean_absolute_error: 0.0325\n",
            "Epoch 28/100\n",
            "72/72 [==============================] - 0s 7ms/step - loss: 0.0021 - mean_absolute_error: 0.0289 - val_loss: 0.0021 - val_mean_absolute_error: 0.0318\n",
            "Epoch 29/100\n",
            "72/72 [==============================] - 0s 7ms/step - loss: 0.0021 - mean_absolute_error: 0.0287 - val_loss: 0.0022 - val_mean_absolute_error: 0.0326\n",
            "Epoch 30/100\n",
            "72/72 [==============================] - 0s 7ms/step - loss: 0.0021 - mean_absolute_error: 0.0289 - val_loss: 0.0021 - val_mean_absolute_error: 0.0312\n",
            "Epoch 31/100\n",
            "72/72 [==============================] - 0s 7ms/step - loss: 0.0020 - mean_absolute_error: 0.0285 - val_loss: 0.0021 - val_mean_absolute_error: 0.0309\n",
            "Epoch 32/100\n",
            "72/72 [==============================] - 0s 7ms/step - loss: 0.0020 - mean_absolute_error: 0.0285 - val_loss: 0.0022 - val_mean_absolute_error: 0.0322\n",
            "Epoch 33/100\n",
            "72/72 [==============================] - 0s 7ms/step - loss: 0.0021 - mean_absolute_error: 0.0287 - val_loss: 0.0022 - val_mean_absolute_error: 0.0322\n",
            "Epoch 34/100\n",
            "72/72 [==============================] - 0s 7ms/step - loss: 0.0020 - mean_absolute_error: 0.0284 - val_loss: 0.0021 - val_mean_absolute_error: 0.0307\n",
            "Epoch 35/100\n",
            "72/72 [==============================] - 0s 7ms/step - loss: 0.0020 - mean_absolute_error: 0.0284 - val_loss: 0.0020 - val_mean_absolute_error: 0.0306\n",
            "Epoch 36/100\n",
            "72/72 [==============================] - 0s 7ms/step - loss: 0.0020 - mean_absolute_error: 0.0286 - val_loss: 0.0024 - val_mean_absolute_error: 0.0334\n",
            "Epoch 37/100\n",
            "72/72 [==============================] - 0s 7ms/step - loss: 0.0020 - mean_absolute_error: 0.0287 - val_loss: 0.0020 - val_mean_absolute_error: 0.0306\n",
            "Epoch 38/100\n",
            "72/72 [==============================] - 1s 7ms/step - loss: 0.0020 - mean_absolute_error: 0.0285 - val_loss: 0.0021 - val_mean_absolute_error: 0.0315\n",
            "Epoch 39/100\n",
            "72/72 [==============================] - 0s 7ms/step - loss: 0.0020 - mean_absolute_error: 0.0287 - val_loss: 0.0022 - val_mean_absolute_error: 0.0324\n",
            "Epoch 40/100\n",
            "72/72 [==============================] - 1s 7ms/step - loss: 0.0021 - mean_absolute_error: 0.0288 - val_loss: 0.0022 - val_mean_absolute_error: 0.0320\n",
            "Epoch 41/100\n",
            "72/72 [==============================] - 0s 7ms/step - loss: 0.0020 - mean_absolute_error: 0.0285 - val_loss: 0.0020 - val_mean_absolute_error: 0.0300\n",
            "Epoch 42/100\n",
            "72/72 [==============================] - 1s 7ms/step - loss: 0.0020 - mean_absolute_error: 0.0285 - val_loss: 0.0021 - val_mean_absolute_error: 0.0313\n",
            "Epoch 43/100\n",
            "72/72 [==============================] - 0s 7ms/step - loss: 0.0020 - mean_absolute_error: 0.0285 - val_loss: 0.0023 - val_mean_absolute_error: 0.0330\n",
            "Epoch 44/100\n",
            "72/72 [==============================] - 0s 7ms/step - loss: 0.0020 - mean_absolute_error: 0.0287 - val_loss: 0.0021 - val_mean_absolute_error: 0.0313\n",
            "Epoch 45/100\n",
            "72/72 [==============================] - 1s 7ms/step - loss: 0.0020 - mean_absolute_error: 0.0287 - val_loss: 0.0024 - val_mean_absolute_error: 0.0339\n",
            "Epoch 46/100\n",
            "72/72 [==============================] - 0s 7ms/step - loss: 0.0020 - mean_absolute_error: 0.0287 - val_loss: 0.0021 - val_mean_absolute_error: 0.0314\n",
            "Epoch 47/100\n",
            "72/72 [==============================] - 0s 7ms/step - loss: 0.0020 - mean_absolute_error: 0.0288 - val_loss: 0.0024 - val_mean_absolute_error: 0.0340\n",
            "Epoch 48/100\n",
            "72/72 [==============================] - 0s 7ms/step - loss: 0.0020 - mean_absolute_error: 0.0288 - val_loss: 0.0023 - val_mean_absolute_error: 0.0331\n",
            "Epoch 49/100\n",
            "72/72 [==============================] - 0s 7ms/step - loss: 0.0020 - mean_absolute_error: 0.0285 - val_loss: 0.0022 - val_mean_absolute_error: 0.0325\n",
            "Epoch 50/100\n",
            "72/72 [==============================] - 0s 7ms/step - loss: 0.0020 - mean_absolute_error: 0.0283 - val_loss: 0.0022 - val_mean_absolute_error: 0.0322\n",
            "Epoch 51/100\n",
            "72/72 [==============================] - 0s 7ms/step - loss: 0.0020 - mean_absolute_error: 0.0287 - val_loss: 0.0025 - val_mean_absolute_error: 0.0343\n",
            "Epoch 52/100\n",
            "72/72 [==============================] - 0s 7ms/step - loss: 0.0021 - mean_absolute_error: 0.0292 - val_loss: 0.0021 - val_mean_absolute_error: 0.0315\n",
            "Epoch 53/100\n",
            "72/72 [==============================] - 0s 7ms/step - loss: 0.0021 - mean_absolute_error: 0.0292 - val_loss: 0.0023 - val_mean_absolute_error: 0.0324\n",
            "Epoch 54/100\n",
            "72/72 [==============================] - 1s 7ms/step - loss: 0.0021 - mean_absolute_error: 0.0288 - val_loss: 0.0023 - val_mean_absolute_error: 0.0328\n",
            "Epoch 55/100\n",
            "72/72 [==============================] - 0s 7ms/step - loss: 0.0021 - mean_absolute_error: 0.0290 - val_loss: 0.0024 - val_mean_absolute_error: 0.0339\n",
            "Epoch 56/100\n",
            "72/72 [==============================] - 0s 7ms/step - loss: 0.0020 - mean_absolute_error: 0.0289 - val_loss: 0.0022 - val_mean_absolute_error: 0.0321\n",
            "Epoch 57/100\n",
            "72/72 [==============================] - 1s 7ms/step - loss: 0.0021 - mean_absolute_error: 0.0291 - val_loss: 0.0023 - val_mean_absolute_error: 0.0330\n",
            "Epoch 58/100\n",
            "72/72 [==============================] - 1s 7ms/step - loss: 0.0020 - mean_absolute_error: 0.0290 - val_loss: 0.0023 - val_mean_absolute_error: 0.0327\n",
            "Epoch 59/100\n",
            "72/72 [==============================] - 0s 7ms/step - loss: 0.0020 - mean_absolute_error: 0.0288 - val_loss: 0.0022 - val_mean_absolute_error: 0.0324\n",
            "Epoch 60/100\n",
            "72/72 [==============================] - 0s 7ms/step - loss: 0.0020 - mean_absolute_error: 0.0287 - val_loss: 0.0023 - val_mean_absolute_error: 0.0329\n",
            "Epoch 61/100\n",
            "72/72 [==============================] - 0s 7ms/step - loss: 0.0021 - mean_absolute_error: 0.0290 - val_loss: 0.0022 - val_mean_absolute_error: 0.0320\n",
            "Epoch 62/100\n",
            "72/72 [==============================] - 0s 7ms/step - loss: 0.0020 - mean_absolute_error: 0.0288 - val_loss: 0.0022 - val_mean_absolute_error: 0.0316\n",
            "Epoch 63/100\n",
            "72/72 [==============================] - 0s 7ms/step - loss: 0.0021 - mean_absolute_error: 0.0290 - val_loss: 0.0021 - val_mean_absolute_error: 0.0302\n",
            "Epoch 64/100\n",
            "72/72 [==============================] - 0s 7ms/step - loss: 0.0021 - mean_absolute_error: 0.0291 - val_loss: 0.0022 - val_mean_absolute_error: 0.0317\n",
            "Epoch 65/100\n",
            "72/72 [==============================] - 0s 7ms/step - loss: 0.0020 - mean_absolute_error: 0.0289 - val_loss: 0.0022 - val_mean_absolute_error: 0.0318\n",
            "Epoch 66/100\n",
            "72/72 [==============================] - 1s 7ms/step - loss: 0.0020 - mean_absolute_error: 0.0289 - val_loss: 0.0022 - val_mean_absolute_error: 0.0320\n",
            "Epoch 67/100\n",
            "72/72 [==============================] - 0s 7ms/step - loss: 0.0021 - mean_absolute_error: 0.0292 - val_loss: 0.0022 - val_mean_absolute_error: 0.0315\n",
            "Epoch 68/100\n",
            "72/72 [==============================] - 0s 7ms/step - loss: 0.0021 - mean_absolute_error: 0.0294 - val_loss: 0.0022 - val_mean_absolute_error: 0.0313\n",
            "Epoch 69/100\n",
            "72/72 [==============================] - 0s 7ms/step - loss: 0.0021 - mean_absolute_error: 0.0293 - val_loss: 0.0022 - val_mean_absolute_error: 0.0309\n",
            "Epoch 70/100\n",
            "72/72 [==============================] - 1s 7ms/step - loss: 0.0021 - mean_absolute_error: 0.0295 - val_loss: 0.0022 - val_mean_absolute_error: 0.0314\n",
            "Epoch 71/100\n",
            "72/72 [==============================] - 0s 7ms/step - loss: 0.0021 - mean_absolute_error: 0.0295 - val_loss: 0.0021 - val_mean_absolute_error: 0.0302\n",
            "Epoch 72/100\n",
            "72/72 [==============================] - 1s 7ms/step - loss: 0.0021 - mean_absolute_error: 0.0296 - val_loss: 0.0022 - val_mean_absolute_error: 0.0311\n",
            "Epoch 73/100\n",
            "72/72 [==============================] - 0s 7ms/step - loss: 0.0021 - mean_absolute_error: 0.0296 - val_loss: 0.0021 - val_mean_absolute_error: 0.0298\n",
            "Epoch 74/100\n",
            "72/72 [==============================] - 0s 7ms/step - loss: 0.0021 - mean_absolute_error: 0.0294 - val_loss: 0.0020 - val_mean_absolute_error: 0.0293\n",
            "Epoch 75/100\n",
            "72/72 [==============================] - 0s 7ms/step - loss: 0.0021 - mean_absolute_error: 0.0294 - val_loss: 0.0019 - val_mean_absolute_error: 0.0274\n",
            "Epoch 76/100\n",
            "72/72 [==============================] - 0s 7ms/step - loss: 0.0021 - mean_absolute_error: 0.0292 - val_loss: 0.0020 - val_mean_absolute_error: 0.0294\n",
            "Epoch 77/100\n",
            "72/72 [==============================] - 0s 7ms/step - loss: 0.0021 - mean_absolute_error: 0.0293 - val_loss: 0.0020 - val_mean_absolute_error: 0.0291\n",
            "Epoch 78/100\n",
            "72/72 [==============================] - 0s 7ms/step - loss: 0.0021 - mean_absolute_error: 0.0296 - val_loss: 0.0021 - val_mean_absolute_error: 0.0295\n",
            "Epoch 79/100\n",
            "72/72 [==============================] - 0s 7ms/step - loss: 0.0021 - mean_absolute_error: 0.0296 - val_loss: 0.0020 - val_mean_absolute_error: 0.0292\n",
            "Epoch 80/100\n",
            "72/72 [==============================] - 0s 7ms/step - loss: 0.0021 - mean_absolute_error: 0.0295 - val_loss: 0.0020 - val_mean_absolute_error: 0.0284\n",
            "Epoch 81/100\n",
            "72/72 [==============================] - 0s 7ms/step - loss: 0.0021 - mean_absolute_error: 0.0293 - val_loss: 0.0019 - val_mean_absolute_error: 0.0281\n",
            "Epoch 82/100\n",
            "72/72 [==============================] - 0s 7ms/step - loss: 0.0021 - mean_absolute_error: 0.0300 - val_loss: 0.0020 - val_mean_absolute_error: 0.0290\n",
            "Epoch 83/100\n",
            "72/72 [==============================] - 0s 7ms/step - loss: 0.0021 - mean_absolute_error: 0.0298 - val_loss: 0.0019 - val_mean_absolute_error: 0.0273\n",
            "Epoch 84/100\n",
            "72/72 [==============================] - 0s 7ms/step - loss: 0.0021 - mean_absolute_error: 0.0293 - val_loss: 0.0019 - val_mean_absolute_error: 0.0278\n",
            "Epoch 85/100\n",
            "72/72 [==============================] - 0s 7ms/step - loss: 0.0021 - mean_absolute_error: 0.0294 - val_loss: 0.0020 - val_mean_absolute_error: 0.0293\n",
            "Epoch 86/100\n",
            "72/72 [==============================] - 0s 7ms/step - loss: 0.0021 - mean_absolute_error: 0.0297 - val_loss: 0.0019 - val_mean_absolute_error: 0.0277\n",
            "Epoch 87/100\n",
            "72/72 [==============================] - 0s 7ms/step - loss: 0.0021 - mean_absolute_error: 0.0293 - val_loss: 0.0019 - val_mean_absolute_error: 0.0284\n",
            "Epoch 88/100\n",
            "72/72 [==============================] - 0s 7ms/step - loss: 0.0021 - mean_absolute_error: 0.0292 - val_loss: 0.0019 - val_mean_absolute_error: 0.0272\n",
            "Epoch 89/100\n",
            "72/72 [==============================] - 0s 7ms/step - loss: 0.0020 - mean_absolute_error: 0.0288 - val_loss: 0.0019 - val_mean_absolute_error: 0.0280\n",
            "Epoch 90/100\n",
            "72/72 [==============================] - 0s 7ms/step - loss: 0.0021 - mean_absolute_error: 0.0297 - val_loss: 0.0019 - val_mean_absolute_error: 0.0287\n",
            "Epoch 91/100\n",
            "72/72 [==============================] - 0s 7ms/step - loss: 0.0021 - mean_absolute_error: 0.0295 - val_loss: 0.0018 - val_mean_absolute_error: 0.0275\n",
            "Epoch 92/100\n",
            "72/72 [==============================] - 0s 7ms/step - loss: 0.0021 - mean_absolute_error: 0.0292 - val_loss: 0.0018 - val_mean_absolute_error: 0.0274\n",
            "Epoch 93/100\n",
            "72/72 [==============================] - 0s 7ms/step - loss: 0.0021 - mean_absolute_error: 0.0291 - val_loss: 0.0018 - val_mean_absolute_error: 0.0276\n",
            "Epoch 94/100\n",
            "72/72 [==============================] - 0s 7ms/step - loss: 0.0021 - mean_absolute_error: 0.0292 - val_loss: 0.0018 - val_mean_absolute_error: 0.0275\n",
            "Epoch 95/100\n",
            "72/72 [==============================] - 1s 7ms/step - loss: 0.0021 - mean_absolute_error: 0.0293 - val_loss: 0.0019 - val_mean_absolute_error: 0.0281\n",
            "Epoch 96/100\n",
            "72/72 [==============================] - 0s 7ms/step - loss: 0.0020 - mean_absolute_error: 0.0287 - val_loss: 0.0018 - val_mean_absolute_error: 0.0268\n",
            "Epoch 97/100\n",
            "72/72 [==============================] - 1s 7ms/step - loss: 0.0020 - mean_absolute_error: 0.0288 - val_loss: 0.0019 - val_mean_absolute_error: 0.0279\n",
            "Epoch 98/100\n",
            "72/72 [==============================] - 0s 7ms/step - loss: 0.0020 - mean_absolute_error: 0.0287 - val_loss: 0.0018 - val_mean_absolute_error: 0.0272\n",
            "Epoch 99/100\n",
            "72/72 [==============================] - 0s 7ms/step - loss: 0.0021 - mean_absolute_error: 0.0290 - val_loss: 0.0018 - val_mean_absolute_error: 0.0277\n",
            "Epoch 100/100\n",
            "72/72 [==============================] - 0s 7ms/step - loss: 0.0021 - mean_absolute_error: 0.0290 - val_loss: 0.0019 - val_mean_absolute_error: 0.0281\n"
          ]
        }
      ],
      "source": [
        "model.compile(loss=tf.losses.MeanSquaredError(),optimizer=tf.optimizers.Adam(),metrics=[tf.metrics.MeanAbsoluteError()])\n",
        "history=model.fit((x_train,x_train1),y_train, epochs = 100, validation_data=((x_test, x_test1), y_test), shuffle=False, callbacks=[tensorboard_callback])"
      ]
    },
    {
      "cell_type": "code",
      "source": [
        "loss_train = history.history['loss']\n",
        "loss_val = history.history['val_loss']\n",
        "epochs = range(100)\n",
        "plt.plot(epochs, loss_train, 'r', label='Training loss')\n",
        "plt.plot(epochs, loss_val, 'b', label='validation loss')\n",
        "plt.title('Training and Validation loss')\n",
        "plt.xlabel('Epochs')\n",
        "plt.ylabel('Loss')\n",
        "mpl.rcParams['figure.figsize'] = (22,12)\n",
        "plt.legend()\n",
        "plt.show()"
      ],
      "metadata": {
        "colab": {
          "base_uri": "https://localhost:8080/",
          "height": 730
        },
        "id": "BtylM9zel-jl",
        "outputId": "48ed9987-8de5-439a-ec90-42e15c3d5ff1"
      },
      "execution_count": null,
      "outputs": [
        {
          "output_type": "display_data",
          "data": {
            "text/plain": [
              "<Figure size 1584x864 with 1 Axes>"
            ],
            "image/png": "[encoded data removed]"
          },
          "metadata": {
            "needs_background": "light"
          }
        }
      ]
    },
    {
      "cell_type": "code",
      "execution_count": null,
      "metadata": {
        "id": "pKAq-xuVYHNH"
      },
      "outputs": [],
      "source": [
        "\n",
        "#%tensorboard --logdir logs/fit"
      ]
    },
    {
      "cell_type": "code",
      "execution_count": null,
      "metadata": {
        "colab": {
          "base_uri": "https://localhost:8080/"
        },
        "id": "k-B6pUESnD4Y",
        "outputId": "79917880-db47-4831-ff59-a68ce3a42865"
      },
      "outputs": [
        {
          "output_type": "stream",
          "name": "stdout",
          "text": [
            "WARNING:tensorflow:Model was constructed with shape (None, 288, 1) for input KerasTensor(type_spec=TensorSpec(shape=(None, 288, 1), dtype=tf.float32, name='deep_input'), name='deep_input', description=\"created by layer 'deep_input'\"), but it was called on an input with incompatible shape (None, 1, 1).\n",
            "WARNING:tensorflow:Model was constructed with shape (None, 288, 1) for input KerasTensor(type_spec=TensorSpec(shape=(None, 288, 1), dtype=tf.float32, name='wide_input'), name='wide_input', description=\"created by layer 'wide_input'\"), but it was called on an input with incompatible shape (None, 1, 1).\n"
          ]
        }
      ],
      "source": [
        "y_pred = model.predict((x_test, x_test1))"
      ]
    },
    {
      "cell_type": "code",
      "execution_count": null,
      "metadata": {
        "colab": {
          "base_uri": "https://localhost:8080/"
        },
        "id": "PDFMilCF7H-J",
        "outputId": "225216d5-594c-4d30-a6d7-f6c450c96a07"
      },
      "outputs": [
        {
          "output_type": "execute_result",
          "data": {
            "text/plain": [
              "array([[0.28408515, 0.28389567, 0.28537622, ..., 0.28742796, 0.29204622,\n",
              "        0.2988038 ],\n",
              "       [0.27949744, 0.2792621 , 0.28079084, ..., 0.28285947, 0.2875021 ,\n",
              "        0.29436064],\n",
              "       [0.2758303 , 0.27556574, 0.27713284, ..., 0.27921236, 0.28387973,\n",
              "        0.290816  ],\n",
              "       ...,\n",
              "       [0.3047982 , 0.304825  , 0.3061429 , ..., 0.30802813, 0.3124548 ,\n",
              "        0.31883872],\n",
              "       [0.30675635, 0.30679664, 0.30811143, ..., 0.30996993, 0.31438112,\n",
              "        0.32072803],\n",
              "       [0.30767184, 0.30771846, 0.3090318 , ..., 0.31087783, 0.3152818 ,\n",
              "        0.32161132]], dtype=float32)"
            ]
          },
          "metadata": {},
          "execution_count": 42
        }
      ],
      "source": [
        "y_pred"
      ]
    },
    {
      "cell_type": "code",
      "execution_count": null,
      "metadata": {
        "id": "ghcLhbYZ7SGB"
      },
      "outputs": [],
      "source": [
        "y_pred_final=scaler1.inverse_transform(y_pred)"
      ]
    },
    {
      "cell_type": "code",
      "execution_count": null,
      "metadata": {
        "colab": {
          "base_uri": "https://localhost:8080/"
        },
        "id": "Rr0DkQEE7oGX",
        "outputId": "0c27bc53-e8ef-49e9-b28e-cd3de90d1051"
      },
      "outputs": [
        {
          "output_type": "execute_result",
          "data": {
            "text/plain": [
              "array([[132.29091, 132.2287 , 132.71489, ..., 133.38866, 134.90526,\n",
              "        137.12439],\n",
              "       [130.78435, 130.70706, 131.20909, ..., 131.88841, 133.41301,\n",
              "        135.66528],\n",
              "       [129.5801 , 129.49323, 130.00784, ..., 130.69073, 132.22345,\n",
              "        134.50127],\n",
              "       ...,\n",
              "       [139.09288, 139.10168, 139.53447, ..., 140.15356, 141.60724,\n",
              "        143.70366],\n",
              "       [139.73593, 139.74916, 140.18092, ..., 140.79123, 142.23982,\n",
              "        144.3241 ],\n",
              "       [140.03656, 140.05186, 140.48317, ..., 141.08939, 142.5356 ,\n",
              "        144.61415]], dtype=float32)"
            ]
          },
          "metadata": {},
          "execution_count": 44
        }
      ],
      "source": [
        "y_pred_final"
      ]
    },
    {
      "cell_type": "code",
      "execution_count": null,
      "metadata": {
        "colab": {
          "base_uri": "https://localhost:8080/"
        },
        "id": "-fy_P6yt9X1n",
        "outputId": "6d0375f1-39e3-494a-d423-53675c4a5ad4"
      },
      "outputs": [
        {
          "output_type": "execute_result",
          "data": {
            "text/plain": [
              "(574, 12)"
            ]
          },
          "metadata": {},
          "execution_count": 45
        }
      ],
      "source": [
        "y_pred_final.shape"
      ]
    },
    {
      "cell_type": "code",
      "execution_count": null,
      "metadata": {
        "colab": {
          "base_uri": "https://localhost:8080/",
          "height": 520
        },
        "id": "C8C4ExjO-8-G",
        "outputId": "36110f78-f4bc-47dc-8ebd-88ad5bbcf642"
      },
      "outputs": [
        {
          "output_type": "stream",
          "name": "stdout",
          "text": [
            "\n",
            "Pandas DataFrame: \n"
          ]
        },
        {
          "output_type": "execute_result",
          "data": {
            "text/plain": [
              "     Predicted at T0  Predicted at T1  Predicted at T2  Predicted at T3  \\\n",
              "0         132.290909       132.228699       132.714890       133.631485   \n",
              "1         130.784348       130.707062       131.209091       132.127304   \n",
              "2         129.580093       129.493225       130.007843       130.930466   \n",
              "3         128.537750       128.442688       128.968140       129.894623   \n",
              "4         127.565231       127.462715       127.998230       128.928284   \n",
              "..               ...              ...              ...              ...   \n",
              "569       137.669327       137.668427       138.103577       139.017212   \n",
              "570       138.286743       138.290054       138.724121       139.633774   \n",
              "571       139.092880       139.101685       139.534470       140.438873   \n",
              "572       139.735931       139.749161       140.180923       141.081146   \n",
              "573       140.036560       140.051865       140.483170       141.381409   \n",
              "\n",
              "     Predicted at T4  Predicted at T5  Predicted at T6  Predicted at T7  \\\n",
              "0         135.223740       136.933105       132.456406       131.593063   \n",
              "1         133.745651       135.480011       130.945068       130.066330   \n",
              "2         132.565247       134.321136       129.741959       128.847931   \n",
              "3         131.543564       133.317978       128.700684       127.793465   \n",
              "4         130.590424       132.382050       127.729309       126.809799   \n",
              "..               ...              ...              ...              ...   \n",
              "569       140.501846       142.159378       137.852982       137.019287   \n",
              "570       141.109360       142.759445       138.471893       137.634293   \n",
              "571       141.902649       143.542847       139.280060       138.437408   \n",
              "572       142.535461       144.167725       139.924744       139.078110   \n",
              "573       142.831329       144.459885       140.226166       139.377655   \n",
              "\n",
              "     Predicted at T8  Predicted at T9  Predicted at T10  Predicted at T11  \n",
              "0         132.436249       133.388657        134.905258        137.124390  \n",
              "1         130.924927       131.888412        133.413010        135.665283  \n",
              "2         129.718231       130.690735        132.223450        134.501266  \n",
              "3         128.673798       129.654160        131.193832        133.493713  \n",
              "4         127.699455       128.687149        130.233276        132.553726  \n",
              "..               ...              ...               ...               ...  \n",
              "569       137.842880       138.742020        140.206848        142.330215  \n",
              "570       138.463486       139.354202        140.814209        142.925888  \n",
              "571       139.273880       140.153564        141.607239        143.703659  \n",
              "572       139.920334       140.791229        142.239822        144.324097  \n",
              "573       140.222580       141.089386        142.535599        144.614151  \n",
              "\n",
              "[574 rows x 12 columns]"
            ],
            "text/html": [
              "\n",
              "  <div id=\"df-226c244d-04e3-4c4a-b7a3-80da5d908f8c\">\n",
              "    <div class=\"colab-df-container\">\n",
              "      <div>\n",
              "<style scoped>\n",
              "    .dataframe tbody tr th:only-of-type {\n",
              "        vertical-align: middle;\n",
              "    }\n",
              "\n",
              "    .dataframe tbody tr th {\n",
              "        vertical-align: top;\n",
              "    }\n",
              "\n",
              "    .dataframe thead th {\n",
              "        text-align: right;\n",
              "    }\n",
              "</style>\n",
              "<table border=\"1\" class=\"dataframe\">\n",
              "  <thead>\n",
              "    <tr style=\"text-align: right;\">\n",
              "      <th></th>\n",
              "      <th>Predicted at T0</th>\n",
              "      <th>Predicted at T1</th>\n",
              "      <th>Predicted at T2</th>\n",
              "      <th>Predicted at T3</th>\n",
              "      <th>Predicted at T4</th>\n",
              "      <th>Predicted at T5</th>\n",
              "      <th>Predicted at T6</th>\n",
              "      <th>Predicted at T7</th>\n",
              "      <th>Predicted at T8</th>\n",
              "      <th>Predicted at T9</th>\n",
              "      <th>Predicted at T10</th>\n",
              "      <th>Predicted at T11</th>\n",
              "    </tr>\n",
              "  </thead>\n",
              "  <tbody>\n",
              "    <tr>\n",
              "      <th>0</th>\n",
              "      <td>132.290909</td>\n",
              "      <td>132.228699</td>\n",
              "      <td>132.714890</td>\n",
              "      <td>133.631485</td>\n",
              "      <td>135.223740</td>\n",
              "      <td>136.933105</td>\n",
              "      <td>132.456406</td>\n",
              "      <td>131.593063</td>\n",
              "      <td>132.436249</td>\n",
              "      <td>133.388657</td>\n",
              "      <td>134.905258</td>\n",
              "      <td>137.124390</td>\n",
              "    </tr>\n",
              "    <tr>\n",
              "      <th>1</th>\n",
              "      <td>130.784348</td>\n",
              "      <td>130.707062</td>\n",
              "      <td>131.209091</td>\n",
              "      <td>132.127304</td>\n",
              "      <td>133.745651</td>\n",
              "      <td>135.480011</td>\n",
              "      <td>130.945068</td>\n",
              "      <td>130.066330</td>\n",
              "      <td>130.924927</td>\n",
              "      <td>131.888412</td>\n",
              "      <td>133.413010</td>\n",
              "      <td>135.665283</td>\n",
              "    </tr>\n",
              "    <tr>\n",
              "      <th>2</th>\n",
              "      <td>129.580093</td>\n",
              "      <td>129.493225</td>\n",
              "      <td>130.007843</td>\n",
              "      <td>130.930466</td>\n",
              "      <td>132.565247</td>\n",
              "      <td>134.321136</td>\n",
              "      <td>129.741959</td>\n",
              "      <td>128.847931</td>\n",
              "      <td>129.718231</td>\n",
              "      <td>130.690735</td>\n",
              "      <td>132.223450</td>\n",
              "      <td>134.501266</td>\n",
              "    </tr>\n",
              "    <tr>\n",
              "      <th>3</th>\n",
              "      <td>128.537750</td>\n",
              "      <td>128.442688</td>\n",
              "      <td>128.968140</td>\n",
              "      <td>129.894623</td>\n",
              "      <td>131.543564</td>\n",
              "      <td>133.317978</td>\n",
              "      <td>128.700684</td>\n",
              "      <td>127.793465</td>\n",
              "      <td>128.673798</td>\n",
              "      <td>129.654160</td>\n",
              "      <td>131.193832</td>\n",
              "      <td>133.493713</td>\n",
              "    </tr>\n",
              "    <tr>\n",
              "      <th>4</th>\n",
              "      <td>127.565231</td>\n",
              "      <td>127.462715</td>\n",
              "      <td>127.998230</td>\n",
              "      <td>128.928284</td>\n",
              "      <td>130.590424</td>\n",
              "      <td>132.382050</td>\n",
              "      <td>127.729309</td>\n",
              "      <td>126.809799</td>\n",
              "      <td>127.699455</td>\n",
              "      <td>128.687149</td>\n",
              "      <td>130.233276</td>\n",
              "      <td>132.553726</td>\n",
              "    </tr>\n",
              "    <tr>\n",
              "      <th>...</th>\n",
              "      <td>...</td>\n",
              "      <td>...</td>\n",
              "      <td>...</td>\n",
              "      <td>...</td>\n",
              "      <td>...</td>\n",
              "      <td>...</td>\n",
              "      <td>...</td>\n",
              "      <td>...</td>\n",
              "      <td>...</td>\n",
              "      <td>...</td>\n",
              "      <td>...</td>\n",
              "      <td>...</td>\n",
              "    </tr>\n",
              "    <tr>\n",
              "      <th>569</th>\n",
              "      <td>137.669327</td>\n",
              "      <td>137.668427</td>\n",
              "      <td>138.103577</td>\n",
              "      <td>139.017212</td>\n",
              "      <td>140.501846</td>\n",
              "      <td>142.159378</td>\n",
              "      <td>137.852982</td>\n",
              "      <td>137.019287</td>\n",
              "      <td>137.842880</td>\n",
              "      <td>138.742020</td>\n",
              "      <td>140.206848</td>\n",
              "      <td>142.330215</td>\n",
              "    </tr>\n",
              "    <tr>\n",
              "      <th>570</th>\n",
              "      <td>138.286743</td>\n",
              "      <td>138.290054</td>\n",
              "      <td>138.724121</td>\n",
              "      <td>139.633774</td>\n",
              "      <td>141.109360</td>\n",
              "      <td>142.759445</td>\n",
              "      <td>138.471893</td>\n",
              "      <td>137.634293</td>\n",
              "      <td>138.463486</td>\n",
              "      <td>139.354202</td>\n",
              "      <td>140.814209</td>\n",
              "      <td>142.925888</td>\n",
              "    </tr>\n",
              "    <tr>\n",
              "      <th>571</th>\n",
              "      <td>139.092880</td>\n",
              "      <td>139.101685</td>\n",
              "      <td>139.534470</td>\n",
              "      <td>140.438873</td>\n",
              "      <td>141.902649</td>\n",
              "      <td>143.542847</td>\n",
              "      <td>139.280060</td>\n",
              "      <td>138.437408</td>\n",
              "      <td>139.273880</td>\n",
              "      <td>140.153564</td>\n",
              "      <td>141.607239</td>\n",
              "      <td>143.703659</td>\n",
              "    </tr>\n",
              "    <tr>\n",
              "      <th>572</th>\n",
              "      <td>139.735931</td>\n",
              "      <td>139.749161</td>\n",
              "      <td>140.180923</td>\n",
              "      <td>141.081146</td>\n",
              "      <td>142.535461</td>\n",
              "      <td>144.167725</td>\n",
              "      <td>139.924744</td>\n",
              "      <td>139.078110</td>\n",
              "      <td>139.920334</td>\n",
              "      <td>140.791229</td>\n",
              "      <td>142.239822</td>\n",
              "      <td>144.324097</td>\n",
              "    </tr>\n",
              "    <tr>\n",
              "      <th>573</th>\n",
              "      <td>140.036560</td>\n",
              "      <td>140.051865</td>\n",
              "      <td>140.483170</td>\n",
              "      <td>141.381409</td>\n",
              "      <td>142.831329</td>\n",
              "      <td>144.459885</td>\n",
              "      <td>140.226166</td>\n",
              "      <td>139.377655</td>\n",
              "      <td>140.222580</td>\n",
              "      <td>141.089386</td>\n",
              "      <td>142.535599</td>\n",
              "      <td>144.614151</td>\n",
              "    </tr>\n",
              "  </tbody>\n",
              "</table>\n",
              "<p>574 rows × 12 columns</p>\n",
              "</div>\n",
              "      <button class=\"colab-df-convert\" onclick=\"convertToInteractive('df-226c244d-04e3-4c4a-b7a3-80da5d908f8c')\"\n",
              "              title=\"Convert this dataframe to an interactive table.\"\n",
              "              style=\"display:none;\">\n",
              "        \n",
              "  <svg xmlns=\"http://www.w3.org/2000/svg\" height=\"24px\"viewBox=\"0 0 24 24\"\n",
              "       width=\"24px\">\n",
              "    <path d=\"M0 0h24v24H0V0z\" fill=\"none\"/>\n",
              "    <path d=\"M18.56 5.44l.94 2.06.94-2.06 2.06-.94-2.06-.94-.94-2.06-.94 2.06-2.06.94zm-11 1L8.5 8.5l.94-2.06 2.06-.94-2.06-.94L8.5 2.5l-.94 2.06-2.06.94zm10 10l.94 2.06.94-2.06 2.06-.94-2.06-.94-.94-2.06-.94 2.06-2.06.94z\"/><path d=\"M17.41 7.96l-1.37-1.37c-.4-.4-.92-.59-1.43-.59-.52 0-1.04.2-1.43.59L10.3 9.45l-7.72 7.72c-.78.78-.78 2.05 0 2.83L4 21.41c.39.39.9.59 1.41.59.51 0 1.02-.2 1.41-.59l7.78-7.78 2.81-2.81c.8-.78.8-2.07 0-2.86zM5.41 20L4 18.59l7.72-7.72 1.47 1.35L5.41 20z\"/>\n",
              "  </svg>\n",
              "      </button>\n",
              "      \n",
              "  <style>\n",
              "    .colab-df-container {\n",
              "      display:flex;\n",
              "      flex-wrap:wrap;\n",
              "      gap: 12px;\n",
              "    }\n",
              "\n",
              "    .colab-df-convert {\n",
              "      background-color: #E8F0FE;\n",
              "      border: none;\n",
              "      border-radius: 50%;\n",
              "      cursor: pointer;\n",
              "      display: none;\n",
              "      fill: #1967D2;\n",
              "      height: 32px;\n",
              "      padding: 0 0 0 0;\n",
              "      width: 32px;\n",
              "    }\n",
              "\n",
              "    .colab-df-convert:hover {\n",
              "      background-color: #E2EBFA;\n",
              "      box-shadow: 0px 1px 2px rgba(60, 64, 67, 0.3), 0px 1px 3px 1px rgba(60, 64, 67, 0.15);\n",
              "      fill: #174EA6;\n",
              "    }\n",
              "\n",
              "    [theme=dark] .colab-df-convert {\n",
              "      background-color: #3B4455;\n",
              "      fill: #D2E3FC;\n",
              "    }\n",
              "\n",
              "    [theme=dark] .colab-df-convert:hover {\n",
              "      background-color: #434B5C;\n",
              "      box-shadow: 0px 1px 3px 1px rgba(0, 0, 0, 0.15);\n",
              "      filter: drop-shadow(0px 1px 2px rgba(0, 0, 0, 0.3));\n",
              "      fill: #FFFFFF;\n",
              "    }\n",
              "  </style>\n",
              "\n",
              "      <script>\n",
              "        const buttonEl =\n",
              "          document.querySelector('#df-226c244d-04e3-4c4a-b7a3-80da5d908f8c button.colab-df-convert');\n",
              "        buttonEl.style.display =\n",
              "          google.colab.kernel.accessAllowed ? 'block' : 'none';\n",
              "\n",
              "        async function convertToInteractive(key) {\n",
              "          const element = document.querySelector('#df-226c244d-04e3-4c4a-b7a3-80da5d908f8c');\n",
              "          const dataTable =\n",
              "            await google.colab.kernel.invokeFunction('convertToInteractive',\n",
              "                                                     [key], {});\n",
              "          if (!dataTable) return;\n",
              "\n",
              "          const docLinkHtml = 'Like what you see? Visit the ' +\n",
              "            '<a target=\"_blank\" href=https://colab.research.google.com/notebooks/data_table.ipynb>data table notebook</a>'\n",
              "            + ' to learn more about interactive tables.';\n",
              "          element.innerHTML = '';\n",
              "          dataTable['output_type'] = 'display_data';\n",
              "          await google.colab.output.renderOutput(dataTable, element);\n",
              "          const docLink = document.createElement('div');\n",
              "          docLink.innerHTML = docLinkHtml;\n",
              "          element.appendChild(docLink);\n",
              "        }\n",
              "      </script>\n",
              "    </div>\n",
              "  </div>\n",
              "  "
            ]
          },
          "metadata": {},
          "execution_count": 46
        }
      ],
      "source": [
        "df5 = pd.DataFrame(y_pred_final, columns =['Predicted at T0', 'Predicted at T1', 'Predicted at T2', 'Predicted at T3', 'Predicted at T4', 'Predicted at T5', 'Predicted at T6', 'Predicted at T7', 'Predicted at T8', 'Predicted at T9', 'Predicted at T10', 'Predicted at T11' ])\n",
        "print(\"\\nPandas DataFrame: \")\n",
        "df5"
      ]
    },
    {
      "cell_type": "code",
      "execution_count": null,
      "metadata": {
        "id": "XpQQTzVfUwUS",
        "colab": {
          "base_uri": "https://localhost:8080/",
          "height": 267
        },
        "outputId": "711c698d-b3fe-45f8-fb1c-1cf5cab48856"
      },
      "outputs": [
        {
          "output_type": "execute_result",
          "data": {
            "text/plain": [
              "   Predicted at T0  Predicted at T1  Predicted at T2  Predicted at T3  \\\n",
              "0       132.290909       132.228699       132.714890       133.631485   \n",
              "1       130.784348       130.707062       131.209091       132.127304   \n",
              "2       129.580093       129.493225       130.007843       130.930466   \n",
              "3       128.537750       128.442688       128.968140       129.894623   \n",
              "4       127.565231       127.462715       127.998230       128.928284   \n",
              "\n",
              "   Predicted at T4  Predicted at T5  Predicted at T6  Predicted at T7  \\\n",
              "0       135.223740       136.933105       132.456406       131.593063   \n",
              "1       133.745651       135.480011       130.945068       130.066330   \n",
              "2       132.565247       134.321136       129.741959       128.847931   \n",
              "3       131.543564       133.317978       128.700684       127.793465   \n",
              "4       130.590424       132.382050       127.729309       126.809799   \n",
              "\n",
              "   Predicted at T8  Predicted at T9  Predicted at T10  Predicted at T11  \n",
              "0       132.436249       133.388657        134.905258        137.124390  \n",
              "1       130.924927       131.888412        133.413010        135.665283  \n",
              "2       129.718231       130.690735        132.223450        134.501266  \n",
              "3       128.673798       129.654160        131.193832        133.493713  \n",
              "4       127.699455       128.687149        130.233276        132.553726  "
            ],
            "text/html": [
              "\n",
              "  <div id=\"df-e4c6a003-8437-4738-9708-1f82dcabb95a\">\n",
              "    <div class=\"colab-df-container\">\n",
              "      <div>\n",
              "<style scoped>\n",
              "    .dataframe tbody tr th:only-of-type {\n",
              "        vertical-align: middle;\n",
              "    }\n",
              "\n",
              "    .dataframe tbody tr th {\n",
              "        vertical-align: top;\n",
              "    }\n",
              "\n",
              "    .dataframe thead th {\n",
              "        text-align: right;\n",
              "    }\n",
              "</style>\n",
              "<table border=\"1\" class=\"dataframe\">\n",
              "  <thead>\n",
              "    <tr style=\"text-align: right;\">\n",
              "      <th></th>\n",
              "      <th>Predicted at T0</th>\n",
              "      <th>Predicted at T1</th>\n",
              "      <th>Predicted at T2</th>\n",
              "      <th>Predicted at T3</th>\n",
              "      <th>Predicted at T4</th>\n",
              "      <th>Predicted at T5</th>\n",
              "      <th>Predicted at T6</th>\n",
              "      <th>Predicted at T7</th>\n",
              "      <th>Predicted at T8</th>\n",
              "      <th>Predicted at T9</th>\n",
              "      <th>Predicted at T10</th>\n",
              "      <th>Predicted at T11</th>\n",
              "    </tr>\n",
              "  </thead>\n",
              "  <tbody>\n",
              "    <tr>\n",
              "      <th>0</th>\n",
              "      <td>132.290909</td>\n",
              "      <td>132.228699</td>\n",
              "      <td>132.714890</td>\n",
              "      <td>133.631485</td>\n",
              "      <td>135.223740</td>\n",
              "      <td>136.933105</td>\n",
              "      <td>132.456406</td>\n",
              "      <td>131.593063</td>\n",
              "      <td>132.436249</td>\n",
              "      <td>133.388657</td>\n",
              "      <td>134.905258</td>\n",
              "      <td>137.124390</td>\n",
              "    </tr>\n",
              "    <tr>\n",
              "      <th>1</th>\n",
              "      <td>130.784348</td>\n",
              "      <td>130.707062</td>\n",
              "      <td>131.209091</td>\n",
              "      <td>132.127304</td>\n",
              "      <td>133.745651</td>\n",
              "      <td>135.480011</td>\n",
              "      <td>130.945068</td>\n",
              "      <td>130.066330</td>\n",
              "      <td>130.924927</td>\n",
              "      <td>131.888412</td>\n",
              "      <td>133.413010</td>\n",
              "      <td>135.665283</td>\n",
              "    </tr>\n",
              "    <tr>\n",
              "      <th>2</th>\n",
              "      <td>129.580093</td>\n",
              "      <td>129.493225</td>\n",
              "      <td>130.007843</td>\n",
              "      <td>130.930466</td>\n",
              "      <td>132.565247</td>\n",
              "      <td>134.321136</td>\n",
              "      <td>129.741959</td>\n",
              "      <td>128.847931</td>\n",
              "      <td>129.718231</td>\n",
              "      <td>130.690735</td>\n",
              "      <td>132.223450</td>\n",
              "      <td>134.501266</td>\n",
              "    </tr>\n",
              "    <tr>\n",
              "      <th>3</th>\n",
              "      <td>128.537750</td>\n",
              "      <td>128.442688</td>\n",
              "      <td>128.968140</td>\n",
              "      <td>129.894623</td>\n",
              "      <td>131.543564</td>\n",
              "      <td>133.317978</td>\n",
              "      <td>128.700684</td>\n",
              "      <td>127.793465</td>\n",
              "      <td>128.673798</td>\n",
              "      <td>129.654160</td>\n",
              "      <td>131.193832</td>\n",
              "      <td>133.493713</td>\n",
              "    </tr>\n",
              "    <tr>\n",
              "      <th>4</th>\n",
              "      <td>127.565231</td>\n",
              "      <td>127.462715</td>\n",
              "      <td>127.998230</td>\n",
              "      <td>128.928284</td>\n",
              "      <td>130.590424</td>\n",
              "      <td>132.382050</td>\n",
              "      <td>127.729309</td>\n",
              "      <td>126.809799</td>\n",
              "      <td>127.699455</td>\n",
              "      <td>128.687149</td>\n",
              "      <td>130.233276</td>\n",
              "      <td>132.553726</td>\n",
              "    </tr>\n",
              "  </tbody>\n",
              "</table>\n",
              "</div>\n",
              "      <button class=\"colab-df-convert\" onclick=\"convertToInteractive('df-e4c6a003-8437-4738-9708-1f82dcabb95a')\"\n",
              "              title=\"Convert this dataframe to an interactive table.\"\n",
              "              style=\"display:none;\">\n",
              "        \n",
              "  <svg xmlns=\"http://www.w3.org/2000/svg\" height=\"24px\"viewBox=\"0 0 24 24\"\n",
              "       width=\"24px\">\n",
              "    <path d=\"M0 0h24v24H0V0z\" fill=\"none\"/>\n",
              "    <path d=\"M18.56 5.44l.94 2.06.94-2.06 2.06-.94-2.06-.94-.94-2.06-.94 2.06-2.06.94zm-11 1L8.5 8.5l.94-2.06 2.06-.94-2.06-.94L8.5 2.5l-.94 2.06-2.06.94zm10 10l.94 2.06.94-2.06 2.06-.94-2.06-.94-.94-2.06-.94 2.06-2.06.94z\"/><path d=\"M17.41 7.96l-1.37-1.37c-.4-.4-.92-.59-1.43-.59-.52 0-1.04.2-1.43.59L10.3 9.45l-7.72 7.72c-.78.78-.78 2.05 0 2.83L4 21.41c.39.39.9.59 1.41.59.51 0 1.02-.2 1.41-.59l7.78-7.78 2.81-2.81c.8-.78.8-2.07 0-2.86zM5.41 20L4 18.59l7.72-7.72 1.47 1.35L5.41 20z\"/>\n",
              "  </svg>\n",
              "      </button>\n",
              "      \n",
              "  <style>\n",
              "    .colab-df-container {\n",
              "      display:flex;\n",
              "      flex-wrap:wrap;\n",
              "      gap: 12px;\n",
              "    }\n",
              "\n",
              "    .colab-df-convert {\n",
              "      background-color: #E8F0FE;\n",
              "      border: none;\n",
              "      border-radius: 50%;\n",
              "      cursor: pointer;\n",
              "      display: none;\n",
              "      fill: #1967D2;\n",
              "      height: 32px;\n",
              "      padding: 0 0 0 0;\n",
              "      width: 32px;\n",
              "    }\n",
              "\n",
              "    .colab-df-convert:hover {\n",
              "      background-color: #E2EBFA;\n",
              "      box-shadow: 0px 1px 2px rgba(60, 64, 67, 0.3), 0px 1px 3px 1px rgba(60, 64, 67, 0.15);\n",
              "      fill: #174EA6;\n",
              "    }\n",
              "\n",
              "    [theme=dark] .colab-df-convert {\n",
              "      background-color: #3B4455;\n",
              "      fill: #D2E3FC;\n",
              "    }\n",
              "\n",
              "    [theme=dark] .colab-df-convert:hover {\n",
              "      background-color: #434B5C;\n",
              "      box-shadow: 0px 1px 3px 1px rgba(0, 0, 0, 0.15);\n",
              "      filter: drop-shadow(0px 1px 2px rgba(0, 0, 0, 0.3));\n",
              "      fill: #FFFFFF;\n",
              "    }\n",
              "  </style>\n",
              "\n",
              "      <script>\n",
              "        const buttonEl =\n",
              "          document.querySelector('#df-e4c6a003-8437-4738-9708-1f82dcabb95a button.colab-df-convert');\n",
              "        buttonEl.style.display =\n",
              "          google.colab.kernel.accessAllowed ? 'block' : 'none';\n",
              "\n",
              "        async function convertToInteractive(key) {\n",
              "          const element = document.querySelector('#df-e4c6a003-8437-4738-9708-1f82dcabb95a');\n",
              "          const dataTable =\n",
              "            await google.colab.kernel.invokeFunction('convertToInteractive',\n",
              "                                                     [key], {});\n",
              "          if (!dataTable) return;\n",
              "\n",
              "          const docLinkHtml = 'Like what you see? Visit the ' +\n",
              "            '<a target=\"_blank\" href=https://colab.research.google.com/notebooks/data_table.ipynb>data table notebook</a>'\n",
              "            + ' to learn more about interactive tables.';\n",
              "          element.innerHTML = '';\n",
              "          dataTable['output_type'] = 'display_data';\n",
              "          await google.colab.output.renderOutput(dataTable, element);\n",
              "          const docLink = document.createElement('div');\n",
              "          docLink.innerHTML = docLinkHtml;\n",
              "          element.appendChild(docLink);\n",
              "        }\n",
              "      </script>\n",
              "    </div>\n",
              "  </div>\n",
              "  "
            ]
          },
          "metadata": {},
          "execution_count": 47
        }
      ],
      "source": [
        "df5.head()"
      ]
    },
    {
      "cell_type": "code",
      "execution_count": null,
      "metadata": {
        "colab": {
          "base_uri": "https://localhost:8080/"
        },
        "id": "q_MXjXRRVoNQ",
        "outputId": "2e1e62d2-da60-4294-d339-c48c8219155f"
      },
      "outputs": [
        {
          "output_type": "execute_result",
          "data": {
            "text/plain": [
              "array([0.28537622, 0.28079084, 0.27713284, 0.2739668 , 0.27101326,\n",
              "       0.2690829 , 0.27132708, 0.2810566 , 0.36274108, 0.37400413,\n",
              "       0.3722315 , 0.36451697, 0.35569197, 0.3502166 , 0.3498195 ,\n",
              "       0.3503808 , 0.3467839 , 0.3369492 , 0.32522973, 0.31719863,\n",
              "       0.31613776, 0.3204476 , 0.3274466 , 0.33507857, 0.3425946 ,\n",
              "       0.34958887, 0.35590008, 0.36190006, 0.36801085, 0.37397012,\n",
              "       0.37755367, 0.37821832, 0.3734525 , 0.36503193, 0.35622573,\n",
              "       0.35110012, 0.3524302 , 0.36551052, 0.40351596, 0.44764563,\n",
              "       0.4938278 , 0.5356993 , 0.5702909 , 0.5952208 , 0.6109909 ,\n",
              "       0.62478137, 0.64491403, 0.6752304 , 0.70985365, 0.74105084,\n",
              "       0.76341033, 0.7761326 , 0.77951914, 0.7742368 , 0.76177466,\n",
              "       0.74386626, 0.72281694, 0.7021885 , 0.6855804 , 0.6744228 ,\n",
              "       0.66551137, 0.6547398 , 0.6397772 , 0.62212616, 0.6041631 ,\n",
              "       0.58831036, 0.5769745 , 0.573937  , 0.5805284 , 0.57300735,\n",
              "       0.555682  , 0.53286034, 0.50871664, 0.486936  , 0.4702637 ,\n",
              "       0.45706713, 0.4446868 , 0.4316813 , 0.41944918, 0.4092356 ,\n",
              "       0.40144977, 0.39448968, 0.3863996 , 0.37619168, 0.36497864,\n",
              "       0.35429075, 0.3451393 , 0.33752877, 0.33126774, 0.32666758,\n",
              "       0.32509324, 0.32796583, 0.33514395, 0.34316233, 0.34777674,\n",
              "       0.34473446, 0.32979512, 0.30531585, 0.29436663, 0.2970648 ,\n",
              "       0.30703276, 0.31824085, 0.32574794, 0.32104012, 0.3050744 ,\n",
              "       0.2815577 , 0.25989863, 0.25229925, 0.2665124 , 0.30449307,\n",
              "       0.36058995, 0.4300979 , 0.50590396, 0.57500136, 0.63607913,\n",
              "       0.6872748 , 0.7285423 , 0.76279485, 0.79359615, 0.8224555 ,\n",
              "       0.84392345, 0.86117464, 0.86597896, 0.864495  , 0.8619325 ,\n",
              "       0.86300874, 0.8718324 , 0.8833517 , 0.87093246, 0.85676   ,\n",
              "       0.8387459 , 0.81583285, 0.7877649 , 0.7545577 , 0.7165016 ,\n",
              "       0.6605501 , 0.62953544, 0.58461607, 0.54674494, 0.522944  ,\n",
              "       0.5164854 , 0.5218872 , 0.53012216, 0.5353597 , 0.5420328 ,\n",
              "       0.5565085 , 0.58151716, 0.61199   , 0.6416534 , 0.66563314,\n",
              "       0.68083787, 0.685082  , 0.6778471 , 0.66168654, 0.63996583,\n",
              "       0.6161399 , 0.59367335, 0.5718836 , 0.53936785, 0.50706476,\n",
              "       0.47369972, 0.43924144, 0.4045299 , 0.36946586, 0.33479252,\n",
              "       0.30280334, 0.2736199 , 0.24957833, 0.23339987, 0.22079489,\n",
              "       0.20714322, 0.19086276, 0.17037955, 0.1480641 , 0.12554127,\n",
              "       0.10874914, 0.09928343, 0.09266783, 0.0835484 , 0.0698138 ,\n",
              "       0.05611745, 0.04824083, 0.04884686, 0.05408251, 0.05856303,\n",
              "       0.05688709, 0.04369419, 0.02362942, 0.02509898, 0.02158998,\n",
              "       0.0158299 , 0.01435362, 0.01435362, 0.01435362, 0.01435362,\n",
              "       0.01435362, 0.01435362, 0.01435362, 0.01435362, 0.01435362,\n",
              "       0.01435362, 0.01435362, 0.01435362, 0.01435362, 0.01435362,\n",
              "       0.01435362, 0.01435362, 0.01435362, 0.01435362, 0.01435362,\n",
              "       0.01435362, 0.01435362, 0.01435362, 0.01435362, 0.01435362,\n",
              "       0.01435362, 0.01435362, 0.01435362, 0.01503405, 0.01946795,\n",
              "       0.02740838, 0.03176946, 0.03023622, 0.02212138, 0.01435362,\n",
              "       0.01435362, 0.01435362, 0.01435362, 0.01435362, 0.01435362,\n",
              "       0.01435362, 0.01435362, 0.01435362, 0.01435362, 0.01435362,\n",
              "       0.01435362, 0.01435362, 0.01435362, 0.01435362, 0.01435362,\n",
              "       0.01759689, 0.0346332 , 0.05343155, 0.06570692, 0.07390631,\n",
              "       0.08052703, 0.08809337, 0.09571078, 0.0942717 , 0.09439164,\n",
              "       0.09656426, 0.10128767, 0.10906748, 0.12030796, 0.13452205,\n",
              "       0.1488949 , 0.16037619, 0.168437  , 0.17381436, 0.1773237 ,\n",
              "       0.1787946 , 0.17616442, 0.16713345, 0.15263247, 0.13980776,\n",
              "       0.13910636, 0.15456732, 0.17702807, 0.19737765, 0.20863283,\n",
              "       0.2141136 , 0.2155731 , 0.21431002, 0.21108818, 0.20654163,\n",
              "       0.20128453, 0.19553924, 0.18783283, 0.17503177, 0.17349666,\n",
              "       0.17975482, 0.18988049, 0.19987512, 0.20617375, 0.20879427,\n",
              "       0.20995626, 0.21243569, 0.21740964, 0.22263396, 0.22515827,\n",
              "       0.2234442 , 0.21861476, 0.21254098, 0.20695284, 0.20336682,\n",
              "       0.20312136, 0.34977737, 0.352174  , 0.36260495, 0.37555358,\n",
              "       0.38538793, 0.38691315, 0.37866017, 0.36704847, 0.35986507,\n",
              "       0.36101246, 0.36625847, 0.36976275, 0.36792156, 0.3632695 ,\n",
              "       0.35830262, 0.3561853 , 0.35884097, 0.3676577 , 0.38298336,\n",
              "       0.40499696, 0.4333954 , 0.4678531 , 0.50522715, 0.54239154,\n",
              "       0.5785388 , 0.6120354 , 0.64130086, 0.66516715, 0.6826778 ,\n",
              "       0.69285196, 0.69738084, 0.7074543 , 0.71896946, 0.72787076,\n",
              "       0.73012996, 0.7221441 , 0.70376027, 0.6822581 , 0.66617453,\n",
              "       0.659658  , 0.655137  , 0.6523173 , 0.6399218 , 0.62211317,\n",
              "       0.60269475, 0.5853559 , 0.57354975, 0.56998086, 0.5742057 ,\n",
              "       0.5795169 , 0.57836306, 0.5673353 , 0.5516385 , 0.53824055,\n",
              "       0.5239286 , 0.52731496, 0.5227698 , 0.51360595, 0.49727544,\n",
              "       0.48230308, 0.49792066, 0.5086207 , 0.5194136 , 0.53353524,\n",
              "       0.5536531 , 0.5819999 , 0.6174247 , 0.6512816 , 0.67447853,\n",
              "       0.6829501 , 0.6825306 , 0.6810244 , 0.6819187 , 0.6791601 ,\n",
              "       0.66517407, 0.63779986, 0.6063967 , 0.5823829 , 0.5711348 ,\n",
              "       0.5648895 , 0.5532315 , 0.52967644, 0.49563816, 0.45405513,\n",
              "       0.41028044, 0.368828  , 0.33310822, 0.30721983, 0.2950892 ,\n",
              "       0.29396516, 0.27809206, 0.2511031 , 0.22567132, 0.20290568,\n",
              "       0.17922734, 0.16007748, 0.1485003 , 0.14184639, 0.1364891 ,\n",
              "       0.1301485 , 0.12348968, 0.11765399, 0.11217445, 0.10314733,\n",
              "       0.0863802 , 0.0616202 , 0.03672632, 0.02069975, 0.01818108,\n",
              "       0.02494516, 0.03486572, 0.04287403, 0.04619645, 0.04282241,\n",
              "       0.03243023, 0.0198046 , 0.01435362, 0.01800305, 0.01435362,\n",
              "       0.01489135, 0.01966862, 0.03236771, 0.04342848, 0.05579751,\n",
              "       0.07165977, 0.09259415, 0.11853969, 0.14584988, 0.16831109,\n",
              "       0.18587431, 0.19876409, 0.20715919, 0.21411875, 0.22223249,\n",
              "       0.23400214, 0.25460646, 0.27893853, 0.2960203 , 0.30190927,\n",
              "       0.2987972 , 0.2883298 , 0.27274492, 0.25615805, 0.24336943,\n",
              "       0.23772869, 0.24228787, 0.24259874, 0.2551542 , 0.27637213,\n",
              "       0.29928645, 0.30296537, 0.32208833, 0.35735926, 0.4072057 ,\n",
              "       0.4701626 , 0.54070693, 0.61220324, 0.677126  , 0.72736204,\n",
              "       0.76026595, 0.7837075 , 0.8074854 , 0.8362318 , 0.86348414,\n",
              "       0.88101256, 0.88518655, 0.881691  , 0.8779391 , 0.8777853 ,\n",
              "       0.8774666 , 0.8717723 , 0.8584166 , 0.8414151 , 0.82600725,\n",
              "       0.81512284, 0.80669975, 0.7974457 , 0.78400904, 0.7629683 ,\n",
              "       0.7338098 , 0.70791185, 0.69322294, 0.6852875 , 0.6795747 ,\n",
              "       0.6714829 , 0.65672195, 0.6340616 , 0.60875285, 0.5871783 ,\n",
              "       0.57222366, 0.5591412 , 0.54185313, 0.51815724, 0.49370322,\n",
              "       0.47645685, 0.4710221 , 0.47353128, 0.4783704 , 0.4811199 ,\n",
              "       0.47990206, 0.47359386, 0.4623386 , 0.44896057, 0.4367526 ,\n",
              "       0.42779094, 0.42126003, 0.415582  , 0.40930876, 0.40101784,\n",
              "       0.3905802 , 0.3805101 , 0.36561486, 0.34957585, 0.33602268,\n",
              "       0.32860556, 0.33054182, 0.34160617, 0.3542516 , 0.35974577,\n",
              "       0.3538615 , 0.34190294, 0.33106956, 0.32564422, 0.32376197,\n",
              "       0.32226202, 0.31916738, 0.31501243, 0.31080568, 0.30658713,\n",
              "       0.30032158, 0.2892061 , 0.27305838, 0.25855318, 0.25331947,\n",
              "       0.26103202, 0.27710614, 0.2948677 , 0.30751225, 0.31077725,\n",
              "       0.31234276, 0.34520033, 0.3520786 , 0.34139085, 0.32158136,\n",
              "       0.30104545, 0.28694138, 0.28453982, 0.28924704, 0.29408327,\n",
              "       0.2951858 , 0.29503065, 0.29716888, 0.3032553 , 0.31161198,\n",
              "       0.3199177 , 0.3260047 , 0.32822847, 0.3252375 , 0.31713238,\n",
              "       0.3071021 , 0.29890049, 0.29470688, 0.29415753, 0.29587826,\n",
              "       0.29885033, 0.30283993, 0.30804154, 0.3145722 , 0.32252795,\n",
              "       0.32683355, 0.31297097, 0.30507675, 0.3018004 , 0.3017856 ,\n",
              "       0.30367526, 0.3061429 , 0.30811143, 0.3090318 ], dtype=float32)"
            ]
          },
          "metadata": {},
          "execution_count": 48
        }
      ],
      "source": [
        "y_pred[:,2]"
      ]
    },
    {
      "cell_type": "code",
      "execution_count": null,
      "metadata": {
        "colab": {
          "base_uri": "https://localhost:8080/"
        },
        "id": "ZbJ-_EgMWx5f",
        "outputId": "c3da1c80-d021-4ae1-c203-cb15dba61769"
      },
      "outputs": [
        {
          "output_type": "execute_result",
          "data": {
            "text/plain": [
              "2304    160.124169\n",
              "2305    163.992595\n",
              "2306    163.384391\n",
              "2307    160.734785\n",
              "2308    157.699976\n",
              "           ...    \n",
              "2875    153.265374\n",
              "2876    155.444183\n",
              "2877    154.115020\n",
              "2878    150.820998\n",
              "2879    147.653381\n",
              "Name: CGM, Length: 576, dtype: float64"
            ]
          },
          "metadata": {},
          "execution_count": 49
        }
      ],
      "source": [
        "df['CGM'][2304:]"
      ]
    },
    {
      "cell_type": "code",
      "execution_count": null,
      "metadata": {
        "id": "1_I1dBK7W2vu"
      },
      "outputs": [],
      "source": [
        "y_orig = df['CGM'][2304:]\n",
        "y_orig.reset_index(drop=True, inplace = True)"
      ]
    },
    {
      "cell_type": "code",
      "execution_count": null,
      "metadata": {
        "colab": {
          "base_uri": "https://localhost:8080/",
          "height": 714
        },
        "id": "FiE2ZDSvMUJt",
        "outputId": "7860ad72-eacb-4730-fc35-b5b93bf47323"
      },
      "outputs": [
        {
          "output_type": "display_data",
          "data": {
            "text/plain": [
              "<Figure size 1584x864 with 1 Axes>"
            ],
            "image/png": "[encoded data removed]"
          },
          "metadata": {
            "needs_background": "light"
          }
        }
      ],
      "source": [
        "plt.plot(y_orig,label='Original Glucose Value')\n",
        "plt.plot(y_pred_final[:,2],'--',color=\"Red\", label='Predicted Glucose Value')\n",
        "plt.xlabel('Time Points')\n",
        "plt.ylabel('Glucose Value')\n",
        "mpl.rcParams['figure.figsize'] = (22,12)\n",
        "plt.legend()\n",
        "plt.show()"
      ]
    },
    {
      "cell_type": "code",
      "source": [
        "plt.plot(y_orig,linestyle='-',marker='^',label='Original Glucose Value', color=\"Purple\", linewidth=3, markerfacecolor='Purple', markersize=9)\n",
        "plt.plot(y_pred_final[:,2],linestyle='--',marker='o',color=\"Black\", label='Predicted Glucose Value', linewidth=3,  markerfacecolor='Black', markersize=9)\n",
        "plt.xlabel('Time Points')\n",
        "plt.ylabel('Glucose Value')\n",
        "mpl.rcParams['figure.figsize'] = (22,12)\n",
        "plt.legend()\n",
        "plt.show()"
      ],
      "metadata": {
        "colab": {
          "base_uri": "https://localhost:8080/",
          "height": 714
        },
        "id": "Palj8wXvHpzT",
        "outputId": "dae103b3-719f-4a43-a58e-361d7c4086f6"
      },
      "execution_count": null,
      "outputs": [
        {
          "output_type": "display_data",
          "data": {
            "text/plain": [
              "<Figure size 1584x864 with 1 Axes>"
            ],
            "image/png": "[encoded data removed]"
          },
          "metadata": {
            "needs_background": "light"
          }
        }
      ]
    },
    {
      "cell_type": "code",
      "execution_count": null,
      "metadata": {
        "colab": {
          "base_uri": "https://localhost:8080/"
        },
        "id": "znk8KDsUTZsA",
        "outputId": "632e70d3-c042-47ea-9b4a-3b78f635d980"
      },
      "outputs": [
        {
          "output_type": "execute_result",
          "data": {
            "text/plain": [
              "(array([461]),)"
            ]
          },
          "metadata": {},
          "execution_count": 52
        }
      ],
      "source": [
        "import numpy as np\n",
        "np.where(y_pred_final[:,2] == max(y_pred_final[:,2]))\n"
      ]
    },
    {
      "cell_type": "code",
      "execution_count": null,
      "metadata": {
        "colab": {
          "base_uri": "https://localhost:8080/"
        },
        "id": "sdcMM2m92628",
        "outputId": "d1433593-9e9c-4a02-ad85-0d5ac3b62537"
      },
      "outputs": [
        {
          "output_type": "execute_result",
          "data": {
            "text/plain": [
              "(array([453]),)"
            ]
          },
          "metadata": {},
          "execution_count": 53
        }
      ],
      "source": [
        "np.where(y_orig == max(y_orig))"
      ]
    },
    {
      "cell_type": "code",
      "source": [
        "jd=df['CGM'][2304:].values"
      ],
      "metadata": {
        "id": "WmXQt-ZRHScl"
      },
      "execution_count": null,
      "outputs": []
    },
    {
      "cell_type": "code",
      "source": [
        "jd1= pd.DataFrame(jd, columns = ['Original CGM at T0'])"
      ],
      "metadata": {
        "id": "mL-YeGT4HUWO"
      },
      "execution_count": null,
      "outputs": []
    },
    {
      "cell_type": "code",
      "source": [
        "result = pd.concat([jd1, df5], axis=1, join='inner')\n",
        "display(result)"
      ],
      "metadata": {
        "id": "cmVb--yXHWEX",
        "outputId": "abbcd392-3102-4147-a64a-655b8f032f20",
        "colab": {
          "base_uri": "https://localhost:8080/",
          "height": 485
        }
      },
      "execution_count": null,
      "outputs": [
        {
          "output_type": "display_data",
          "data": {
            "text/plain": [
              "     Original CGM at T0  Predicted at T0  Predicted at T1  Predicted at T2  \\\n",
              "0            160.124169       132.976456       132.686035       133.357498   \n",
              "1            163.992595       131.462173       131.175995       131.857239   \n",
              "2            163.384391       130.249313       129.969360       130.655365   \n",
              "3            160.734785       129.178101       128.907013       129.590729   \n",
              "4            157.699976       128.177628       127.914902       128.596527   \n",
              "..                  ...              ...              ...              ...   \n",
              "569          144.171492       138.408966       138.103745       138.754562   \n",
              "570          148.710765       139.033813       138.729889       139.378876   \n",
              "571          153.265374       139.845551       139.543900       140.189072   \n",
              "572          155.444183       140.493149       140.193344       140.835510   \n",
              "573          154.115020       140.795914       140.496979       141.137756   \n",
              "\n",
              "     Predicted at T3  Predicted at T4  Predicted at T5  Predicted at T6  \\\n",
              "0         134.157715       135.579178       137.044632       132.824738   \n",
              "1         132.664734       134.105240       135.599152       131.329956   \n",
              "2         131.470306       132.927643       134.443024       130.135132   \n",
              "3         130.415405       131.888229       133.421127       129.080231   \n",
              "4         129.430267       130.917480       132.466660       128.095093   \n",
              "..               ...              ...              ...              ...   \n",
              "569       139.534760       140.874420       142.219177       138.206360   \n",
              "570       140.154831       141.486115       142.818100       138.830627   \n",
              "571       140.958740       142.280594       143.598068       139.642914   \n",
              "572       141.600128       142.914429       144.220261       140.291016   \n",
              "573       141.899994       143.210754       144.511154       140.594009   \n",
              "\n",
              "     Predicted at T7  Predicted at T8  Predicted at T9  Predicted at T10  \\\n",
              "0         132.173492       133.292984       134.383926        135.677322   \n",
              "1         130.676804       131.782242       132.903946        134.207901   \n",
              "2         129.478333       130.573013       131.721649        133.032349   \n",
              "3         128.418488       129.507996       130.680588        131.995743   \n",
              "4         127.428772       128.513428       129.708435        131.027634   \n",
              "..               ...              ...              ...               ...   \n",
              "569       137.566269       138.710007       139.702682        140.974976   \n",
              "570       138.189606       139.335236       140.319992        141.586914   \n",
              "571       138.999680       140.147552       141.123108        142.382248   \n",
              "572       139.646011       140.795654       141.763916        143.016769   \n",
              "573       139.948196       141.098663       142.063507        143.313431   \n",
              "\n",
              "     Predicted at T11  \n",
              "0          137.072342  \n",
              "1          135.621124  \n",
              "2          134.459198  \n",
              "3          133.435654  \n",
              "4          132.479706  \n",
              "..                ...  \n",
              "569        142.288651  \n",
              "570        142.890579  \n",
              "571        143.673615  \n",
              "572        144.298340  \n",
              "573        144.590408  \n",
              "\n",
              "[574 rows x 13 columns]"
            ],
            "text/html": [
              "\n",
              "  <div id=\"df-8fe01602-1e32-4744-bab7-14b5e78bf3cb\">\n",
              "    <div class=\"colab-df-container\">\n",
              "      <div>\n",
              "<style scoped>\n",
              "    .dataframe tbody tr th:only-of-type {\n",
              "        vertical-align: middle;\n",
              "    }\n",
              "\n",
              "    .dataframe tbody tr th {\n",
              "        vertical-align: top;\n",
              "    }\n",
              "\n",
              "    .dataframe thead th {\n",
              "        text-align: right;\n",
              "    }\n",
              "</style>\n",
              "<table border=\"1\" class=\"dataframe\">\n",
              "  <thead>\n",
              "    <tr style=\"text-align: right;\">\n",
              "      <th></th>\n",
              "      <th>Original CGM at T0</th>\n",
              "      <th>Predicted at T0</th>\n",
              "      <th>Predicted at T1</th>\n",
              "      <th>Predicted at T2</th>\n",
              "      <th>Predicted at T3</th>\n",
              "      <th>Predicted at T4</th>\n",
              "      <th>Predicted at T5</th>\n",
              "      <th>Predicted at T6</th>\n",
              "      <th>Predicted at T7</th>\n",
              "      <th>Predicted at T8</th>\n",
              "      <th>Predicted at T9</th>\n",
              "      <th>Predicted at T10</th>\n",
              "      <th>Predicted at T11</th>\n",
              "    </tr>\n",
              "  </thead>\n",
              "  <tbody>\n",
              "    <tr>\n",
              "      <th>0</th>\n",
              "      <td>160.124169</td>\n",
              "      <td>132.976456</td>\n",
              "      <td>132.686035</td>\n",
              "      <td>133.357498</td>\n",
              "      <td>134.157715</td>\n",
              "      <td>135.579178</td>\n",
              "      <td>137.044632</td>\n",
              "      <td>132.824738</td>\n",
              "      <td>132.173492</td>\n",
              "      <td>133.292984</td>\n",
              "      <td>134.383926</td>\n",
              "      <td>135.677322</td>\n",
              "      <td>137.072342</td>\n",
              "    </tr>\n",
              "    <tr>\n",
              "      <th>1</th>\n",
              "      <td>163.992595</td>\n",
              "      <td>131.462173</td>\n",
              "      <td>131.175995</td>\n",
              "      <td>131.857239</td>\n",
              "      <td>132.664734</td>\n",
              "      <td>134.105240</td>\n",
              "      <td>135.599152</td>\n",
              "      <td>131.329956</td>\n",
              "      <td>130.676804</td>\n",
              "      <td>131.782242</td>\n",
              "      <td>132.903946</td>\n",
              "      <td>134.207901</td>\n",
              "      <td>135.621124</td>\n",
              "    </tr>\n",
              "    <tr>\n",
              "      <th>2</th>\n",
              "      <td>163.384391</td>\n",
              "      <td>130.249313</td>\n",
              "      <td>129.969360</td>\n",
              "      <td>130.655365</td>\n",
              "      <td>131.470306</td>\n",
              "      <td>132.927643</td>\n",
              "      <td>134.443024</td>\n",
              "      <td>130.135132</td>\n",
              "      <td>129.478333</td>\n",
              "      <td>130.573013</td>\n",
              "      <td>131.721649</td>\n",
              "      <td>133.032349</td>\n",
              "      <td>134.459198</td>\n",
              "    </tr>\n",
              "    <tr>\n",
              "      <th>3</th>\n",
              "      <td>160.734785</td>\n",
              "      <td>129.178101</td>\n",
              "      <td>128.907013</td>\n",
              "      <td>129.590729</td>\n",
              "      <td>130.415405</td>\n",
              "      <td>131.888229</td>\n",
              "      <td>133.421127</td>\n",
              "      <td>129.080231</td>\n",
              "      <td>128.418488</td>\n",
              "      <td>129.507996</td>\n",
              "      <td>130.680588</td>\n",
              "      <td>131.995743</td>\n",
              "      <td>133.435654</td>\n",
              "    </tr>\n",
              "    <tr>\n",
              "      <th>4</th>\n",
              "      <td>157.699976</td>\n",
              "      <td>128.177628</td>\n",
              "      <td>127.914902</td>\n",
              "      <td>128.596527</td>\n",
              "      <td>129.430267</td>\n",
              "      <td>130.917480</td>\n",
              "      <td>132.466660</td>\n",
              "      <td>128.095093</td>\n",
              "      <td>127.428772</td>\n",
              "      <td>128.513428</td>\n",
              "      <td>129.708435</td>\n",
              "      <td>131.027634</td>\n",
              "      <td>132.479706</td>\n",
              "    </tr>\n",
              "    <tr>\n",
              "      <th>...</th>\n",
              "      <td>...</td>\n",
              "      <td>...</td>\n",
              "      <td>...</td>\n",
              "      <td>...</td>\n",
              "      <td>...</td>\n",
              "      <td>...</td>\n",
              "      <td>...</td>\n",
              "      <td>...</td>\n",
              "      <td>...</td>\n",
              "      <td>...</td>\n",
              "      <td>...</td>\n",
              "      <td>...</td>\n",
              "      <td>...</td>\n",
              "    </tr>\n",
              "    <tr>\n",
              "      <th>569</th>\n",
              "      <td>144.171492</td>\n",
              "      <td>138.408966</td>\n",
              "      <td>138.103745</td>\n",
              "      <td>138.754562</td>\n",
              "      <td>139.534760</td>\n",
              "      <td>140.874420</td>\n",
              "      <td>142.219177</td>\n",
              "      <td>138.206360</td>\n",
              "      <td>137.566269</td>\n",
              "      <td>138.710007</td>\n",
              "      <td>139.702682</td>\n",
              "      <td>140.974976</td>\n",
              "      <td>142.288651</td>\n",
              "    </tr>\n",
              "    <tr>\n",
              "      <th>570</th>\n",
              "      <td>148.710765</td>\n",
              "      <td>139.033813</td>\n",
              "      <td>138.729889</td>\n",
              "      <td>139.378876</td>\n",
              "      <td>140.154831</td>\n",
              "      <td>141.486115</td>\n",
              "      <td>142.818100</td>\n",
              "      <td>138.830627</td>\n",
              "      <td>138.189606</td>\n",
              "      <td>139.335236</td>\n",
              "      <td>140.319992</td>\n",
              "      <td>141.586914</td>\n",
              "      <td>142.890579</td>\n",
              "    </tr>\n",
              "    <tr>\n",
              "      <th>571</th>\n",
              "      <td>153.265374</td>\n",
              "      <td>139.845551</td>\n",
              "      <td>139.543900</td>\n",
              "      <td>140.189072</td>\n",
              "      <td>140.958740</td>\n",
              "      <td>142.280594</td>\n",
              "      <td>143.598068</td>\n",
              "      <td>139.642914</td>\n",
              "      <td>138.999680</td>\n",
              "      <td>140.147552</td>\n",
              "      <td>141.123108</td>\n",
              "      <td>142.382248</td>\n",
              "      <td>143.673615</td>\n",
              "    </tr>\n",
              "    <tr>\n",
              "      <th>572</th>\n",
              "      <td>155.444183</td>\n",
              "      <td>140.493149</td>\n",
              "      <td>140.193344</td>\n",
              "      <td>140.835510</td>\n",
              "      <td>141.600128</td>\n",
              "      <td>142.914429</td>\n",
              "      <td>144.220261</td>\n",
              "      <td>140.291016</td>\n",
              "      <td>139.646011</td>\n",
              "      <td>140.795654</td>\n",
              "      <td>141.763916</td>\n",
              "      <td>143.016769</td>\n",
              "      <td>144.298340</td>\n",
              "    </tr>\n",
              "    <tr>\n",
              "      <th>573</th>\n",
              "      <td>154.115020</td>\n",
              "      <td>140.795914</td>\n",
              "      <td>140.496979</td>\n",
              "      <td>141.137756</td>\n",
              "      <td>141.899994</td>\n",
              "      <td>143.210754</td>\n",
              "      <td>144.511154</td>\n",
              "      <td>140.594009</td>\n",
              "      <td>139.948196</td>\n",
              "      <td>141.098663</td>\n",
              "      <td>142.063507</td>\n",
              "      <td>143.313431</td>\n",
              "      <td>144.590408</td>\n",
              "    </tr>\n",
              "  </tbody>\n",
              "</table>\n",
              "<p>574 rows × 13 columns</p>\n",
              "</div>\n",
              "      <button class=\"colab-df-convert\" onclick=\"convertToInteractive('df-8fe01602-1e32-4744-bab7-14b5e78bf3cb')\"\n",
              "              title=\"Convert this dataframe to an interactive table.\"\n",
              "              style=\"display:none;\">\n",
              "        \n",
              "  <svg xmlns=\"http://www.w3.org/2000/svg\" height=\"24px\"viewBox=\"0 0 24 24\"\n",
              "       width=\"24px\">\n",
              "    <path d=\"M0 0h24v24H0V0z\" fill=\"none\"/>\n",
              "    <path d=\"M18.56 5.44l.94 2.06.94-2.06 2.06-.94-2.06-.94-.94-2.06-.94 2.06-2.06.94zm-11 1L8.5 8.5l.94-2.06 2.06-.94-2.06-.94L8.5 2.5l-.94 2.06-2.06.94zm10 10l.94 2.06.94-2.06 2.06-.94-2.06-.94-.94-2.06-.94 2.06-2.06.94z\"/><path d=\"M17.41 7.96l-1.37-1.37c-.4-.4-.92-.59-1.43-.59-.52 0-1.04.2-1.43.59L10.3 9.45l-7.72 7.72c-.78.78-.78 2.05 0 2.83L4 21.41c.39.39.9.59 1.41.59.51 0 1.02-.2 1.41-.59l7.78-7.78 2.81-2.81c.8-.78.8-2.07 0-2.86zM5.41 20L4 18.59l7.72-7.72 1.47 1.35L5.41 20z\"/>\n",
              "  </svg>\n",
              "      </button>\n",
              "      \n",
              "  <style>\n",
              "    .colab-df-container {\n",
              "      display:flex;\n",
              "      flex-wrap:wrap;\n",
              "      gap: 12px;\n",
              "    }\n",
              "\n",
              "    .colab-df-convert {\n",
              "      background-color: #E8F0FE;\n",
              "      border: none;\n",
              "      border-radius: 50%;\n",
              "      cursor: pointer;\n",
              "      display: none;\n",
              "      fill: #1967D2;\n",
              "      height: 32px;\n",
              "      padding: 0 0 0 0;\n",
              "      width: 32px;\n",
              "    }\n",
              "\n",
              "    .colab-df-convert:hover {\n",
              "      background-color: #E2EBFA;\n",
              "      box-shadow: 0px 1px 2px rgba(60, 64, 67, 0.3), 0px 1px 3px 1px rgba(60, 64, 67, 0.15);\n",
              "      fill: #174EA6;\n",
              "    }\n",
              "\n",
              "    [theme=dark] .colab-df-convert {\n",
              "      background-color: #3B4455;\n",
              "      fill: #D2E3FC;\n",
              "    }\n",
              "\n",
              "    [theme=dark] .colab-df-convert:hover {\n",
              "      background-color: #434B5C;\n",
              "      box-shadow: 0px 1px 3px 1px rgba(0, 0, 0, 0.15);\n",
              "      filter: drop-shadow(0px 1px 2px rgba(0, 0, 0, 0.3));\n",
              "      fill: #FFFFFF;\n",
              "    }\n",
              "  </style>\n",
              "\n",
              "      <script>\n",
              "        const buttonEl =\n",
              "          document.querySelector('#df-8fe01602-1e32-4744-bab7-14b5e78bf3cb button.colab-df-convert');\n",
              "        buttonEl.style.display =\n",
              "          google.colab.kernel.accessAllowed ? 'block' : 'none';\n",
              "\n",
              "        async function convertToInteractive(key) {\n",
              "          const element = document.querySelector('#df-8fe01602-1e32-4744-bab7-14b5e78bf3cb');\n",
              "          const dataTable =\n",
              "            await google.colab.kernel.invokeFunction('convertToInteractive',\n",
              "                                                     [key], {});\n",
              "          if (!dataTable) return;\n",
              "\n",
              "          const docLinkHtml = 'Like what you see? Visit the ' +\n",
              "            '<a target=\"_blank\" href=https://colab.research.google.com/notebooks/data_table.ipynb>data table notebook</a>'\n",
              "            + ' to learn more about interactive tables.';\n",
              "          element.innerHTML = '';\n",
              "          dataTable['output_type'] = 'display_data';\n",
              "          await google.colab.output.renderOutput(dataTable, element);\n",
              "          const docLink = document.createElement('div');\n",
              "          docLink.innerHTML = docLinkHtml;\n",
              "          element.appendChild(docLink);\n",
              "        }\n",
              "      </script>\n",
              "    </div>\n",
              "  </div>\n",
              "  "
            ]
          },
          "metadata": {}
        }
      ]
    },
    {
      "cell_type": "markdown",
      "metadata": {
        "id": "4-jXtybM8Z6d"
      },
      "source": [
        "RMSE"
      ]
    },
    {
      "cell_type": "code",
      "source": [
        "from sklearn.metrics import mean_squared_error\n",
        "from math import sqrt\n",
        "rmse=sqrt(mean_squared_error(result['Original CGM at T0'][400:580], result['Predicted at T0'][400:580]))\n",
        "print(rmse)"
      ],
      "metadata": {
        "colab": {
          "base_uri": "https://localhost:8080/"
        },
        "id": "MbkkKVoq--64",
        "outputId": "21189265-fb36-45cb-bd0c-81a9595a20dd"
      },
      "execution_count": null,
      "outputs": [
        {
          "output_type": "stream",
          "name": "stdout",
          "text": [
            "39.059684343971114\n"
          ]
        }
      ]
    },
    {
      "cell_type": "markdown",
      "metadata": {
        "id": "_TK4d_0p8bLG"
      },
      "source": [
        "MAE"
      ]
    },
    {
      "cell_type": "code",
      "source": [
        "from sklearn.metrics import mean_absolute_error\n",
        "MAE= mean_absolute_error(result['Original CGM at T0'][400:580], result['Predicted at T0'][400:580])\n",
        "print(MAE)"
      ],
      "metadata": {
        "colab": {
          "base_uri": "https://localhost:8080/"
        },
        "id": "Kr9B_mcQ_CGC",
        "outputId": "8da7d24c-a4c1-4f12-ffe5-326e0433bdae"
      },
      "execution_count": null,
      "outputs": [
        {
          "output_type": "stream",
          "name": "stdout",
          "text": [
            "25.40629009181618\n"
          ]
        }
      ]
    },
    {
      "cell_type": "markdown",
      "metadata": {
        "id": "FXzvz_z98f-r"
      },
      "source": [
        "MARD"
      ]
    },
    {
      "cell_type": "code",
      "execution_count": null,
      "metadata": {
        "id": "pfJct52aem7u",
        "colab": {
          "base_uri": "https://localhost:8080/"
        },
        "outputId": "44f06de7-4db8-4180-8949-08d942447ceb"
      },
      "outputs": [
        {
          "output_type": "stream",
          "name": "stdout",
          "text": [
            "11.580951499957107\n"
          ]
        }
      ],
      "source": [
        "summation = 0\n",
        "n = 573                                              \n",
        "for i in range (200, 573):                                      \n",
        "  difference = abs(result['Original CGM at T0'][i] - result['Predicted at T0'][i])\n",
        "  Devide_Part = difference/result['Original CGM at T0'][i]                        \n",
        "  summation = summation + Devide_Part                \n",
        "MARD = summation/n *100                                           \n",
        "print(MARD)"
      ]
    },
    {
      "cell_type": "code",
      "source": [
        ""
      ],
      "metadata": {
        "id": "5PJvgFMxOl6m"
      },
      "execution_count": null,
      "outputs": []
    }
  ],
  "metadata": {
    "accelerator": "GPU",
    "colab": {
      "collapsed_sections": [],
      "machine_shape": "hm",
      "name": " WD-Net Elsevier New Work for Glucose Prediction 60 Min .ipynb",
      "provenance": [],
      "authorship_tag": "ABX9TyPfYyRMwu+KFLgnixmWOGlO",
      "include_colab_link": true
    },
    "kernelspec": {
      "display_name": "Python 3",
      "name": "python3"
    },
    "language_info": {
      "name": "python"
    }
  },
  "nbformat": 4,
  "nbformat_minor": 0
}